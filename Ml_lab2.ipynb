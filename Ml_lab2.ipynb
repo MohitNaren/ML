{
  "metadata": {
    "kernelspec": {
      "language": "python",
      "display_name": "Python 3",
      "name": "python3"
    },
    "language_info": {
      "name": "python",
      "version": "3.11.13",
      "mimetype": "text/x-python",
      "codemirror_mode": {
        "name": "ipython",
        "version": 3
      },
      "pygments_lexer": "ipython3",
      "nbconvert_exporter": "python",
      "file_extension": ".py"
    },
    "kaggle": {
      "accelerator": "none",
      "dataSources": [
        {
          "sourceType": "datasetVersion",
          "sourceId": 12601429,
          "datasetId": 7959453,
          "databundleVersionId": 13198516,
          "isSourceIdPinned": false
        },
        {
          "sourceType": "datasetVersion",
          "sourceId": 10678257,
          "datasetId": 6614771,
          "databundleVersionId": 11023508,
          "isSourceIdPinned": false
        }
      ],
      "dockerImageVersionId": 31089,
      "isInternetEnabled": false,
      "language": "python",
      "sourceType": "notebook",
      "isGpuEnabled": false
    },
    "colab": {
      "name": "Ml_lab",
      "provenance": [],
      "include_colab_link": true
    }
  },
  "nbformat_minor": 0,
  "nbformat": 4,
  "cells": [
    {
      "cell_type": "markdown",
      "metadata": {
        "id": "view-in-github",
        "colab_type": "text"
      },
      "source": [
        "<a href=\"https://colab.research.google.com/github/MohitNaren/ML/blob/main/Ml_lab.ipynb\" target=\"_parent\"><img src=\"https://colab.research.google.com/assets/colab-badge.svg\" alt=\"Open In Colab\"/></a>"
      ]
    },
    {
      "source": [
        "# IMPORTANT: RUN THIS CELL IN ORDER TO IMPORT YOUR KAGGLE DATA SOURCES,\n",
        "# THEN FEEL FREE TO DELETE THIS CELL.\n",
        "# NOTE: THIS NOTEBOOK ENVIRONMENT DIFFERS FROM KAGGLE'S PYTHON\n",
        "# ENVIRONMENT SO THERE MAY BE MISSING LIBRARIES USED BY YOUR\n",
        "# NOTEBOOK.\n",
        "import kagglehub\n",
        "mhassansaboor_uber_stocks_dataset_2025_path = kagglehub.dataset_download('mhassansaboor/uber-stocks-dataset-2025')\n",
        "kunshbhatia_delhi_air_quality_dataset_path = kagglehub.dataset_download('kunshbhatia/delhi-air-quality-dataset')\n",
        "\n",
        "print('Data source import complete.')\n"
      ],
      "metadata": {
        "id": "nj-ONHH0AYQ_"
      },
      "cell_type": "code",
      "outputs": [],
      "execution_count": null
    },
    {
      "cell_type": "code",
      "source": [
        "# This Python 3 environment comes with many helpful analytics libraries installed\n",
        "# It is defined by the kaggle/python Docker image: https://github.com/kaggle/docker-python\n",
        "# For example, here's several helpful packages to load\n",
        "\n",
        "import numpy as np # linear algebra\n",
        "import pandas as pd # data processing, CSV file I/O (e.g. pd.read_csv)\n",
        "\n",
        "# Input data files are available in the read-only \"../input/\" directory\n",
        "# For example, running this (by clicking run or pressing Shift+Enter) will list all files under the input directory\n",
        "\n",
        "import os\n",
        "for dirname, _, filenames in os.walk('/kaggle/input'):\n",
        "    for filename in filenames:\n",
        "        print(os.path.join(dirname, filename))\n",
        "\n",
        "# You can write up to 20GB to the current directory (/kaggle/working/) that gets preserved as output when you create a version using \"Save & Run All\"\n",
        "# You can also write temporary files to /kaggle/temp/, but they won't be saved outside of the current session"
      ],
      "metadata": {
        "_uuid": "8f2839f25d086af736a60e9eeb907d3b93b6e0e5",
        "_cell_guid": "b1076dfc-b9ad-4769-8c92-a6c4dae69d19",
        "trusted": true,
        "execution": {
          "iopub.status.busy": "2025-08-01T04:03:00.092002Z",
          "iopub.execute_input": "2025-08-01T04:03:00.092312Z",
          "iopub.status.idle": "2025-08-01T04:03:02.062719Z",
          "shell.execute_reply.started": "2025-08-01T04:03:00.092283Z",
          "shell.execute_reply": "2025-08-01T04:03:02.061791Z"
        },
        "id": "lf4TrBWzAYRD"
      },
      "outputs": [],
      "execution_count": null
    },
    {
      "cell_type": "code",
      "source": [
        "import kagglehub\n",
        "\n",
        "# Download latest version\n",
        "path = kagglehub.dataset_download(\"kunshbhatia/delhi-air-quality-dataset\")\n",
        "\n",
        "print(\"Path to dataset files:\", path)"
      ],
      "metadata": {
        "trusted": true,
        "execution": {
          "iopub.status.busy": "2025-08-01T04:03:08.841816Z",
          "iopub.execute_input": "2025-08-01T04:03:08.842094Z",
          "iopub.status.idle": "2025-08-01T04:03:11.58935Z",
          "shell.execute_reply.started": "2025-08-01T04:03:08.842071Z",
          "shell.execute_reply": "2025-08-01T04:03:11.588473Z"
        },
        "id": "VNj525PDAYRE",
        "outputId": "d1e4e2b7-a717-4f39-ff42-50c90cddd862"
      },
      "outputs": [
        {
          "name": "stdout",
          "text": "Path to dataset files: /kaggle/input/delhi-air-quality-dataset\n",
          "output_type": "stream"
        }
      ],
      "execution_count": null
    },
    {
      "cell_type": "code",
      "source": [
        "import pandas as pd\n",
        "import os\n",
        "\n",
        "# List all files in the dataset path\n",
        "print(\"Files in dataset folder:\", os.listdir(path))\n",
        "\n",
        "# Load CSV file (adjust filename as needed)\n",
        "df = pd.read_csv(os.path.join(path, \"final_dataset.csv\"))\n",
        "df.head()\n",
        "  # Replace with actual filename\n",
        "\n"
      ],
      "metadata": {
        "trusted": true,
        "execution": {
          "iopub.status.busy": "2025-08-01T04:10:37.891223Z",
          "iopub.execute_input": "2025-08-01T04:10:37.891919Z",
          "iopub.status.idle": "2025-08-01T04:10:37.95177Z",
          "shell.execute_reply.started": "2025-08-01T04:10:37.891888Z",
          "shell.execute_reply": "2025-08-01T04:10:37.950882Z"
        },
        "id": "80Gj_fbgAYRF",
        "outputId": "5dc3ffa2-09d7-4c99-f0fc-77e369778501"
      },
      "outputs": [
        {
          "name": "stdout",
          "text": "Files in dataset folder: ['final_dataset.csv']\n",
          "output_type": "stream"
        },
        {
          "execution_count": 5,
          "output_type": "execute_result",
          "data": {
            "text/plain": "   Date  Month  Year  Holidays_Count  Days   PM2.5    PM10     NO2    SO2  \\\n0     1      1  2021               0     5  408.80  442.42  160.61  12.95   \n1     2      1  2021               0     6  404.04  561.95   52.85   5.18   \n2     3      1  2021               1     7  225.07  239.04  170.95  10.93   \n3     4      1  2021               0     1   89.55  132.08  153.98  10.42   \n4     5      1  2021               0     2   54.06   55.54  122.66   9.70   \n\n     CO  Ozone  AQI  \n0  2.77  43.19  462  \n1  2.60  16.43  482  \n2  1.40  44.29  263  \n3  1.01  49.19  207  \n4  0.64  48.88  149  ",
            "text/html": "<div>\n<style scoped>\n    .dataframe tbody tr th:only-of-type {\n        vertical-align: middle;\n    }\n\n    .dataframe tbody tr th {\n        vertical-align: top;\n    }\n\n    .dataframe thead th {\n        text-align: right;\n    }\n</style>\n<table border=\"1\" class=\"dataframe\">\n  <thead>\n    <tr style=\"text-align: right;\">\n      <th></th>\n      <th>Date</th>\n      <th>Month</th>\n      <th>Year</th>\n      <th>Holidays_Count</th>\n      <th>Days</th>\n      <th>PM2.5</th>\n      <th>PM10</th>\n      <th>NO2</th>\n      <th>SO2</th>\n      <th>CO</th>\n      <th>Ozone</th>\n      <th>AQI</th>\n    </tr>\n  </thead>\n  <tbody>\n    <tr>\n      <th>0</th>\n      <td>1</td>\n      <td>1</td>\n      <td>2021</td>\n      <td>0</td>\n      <td>5</td>\n      <td>408.80</td>\n      <td>442.42</td>\n      <td>160.61</td>\n      <td>12.95</td>\n      <td>2.77</td>\n      <td>43.19</td>\n      <td>462</td>\n    </tr>\n    <tr>\n      <th>1</th>\n      <td>2</td>\n      <td>1</td>\n      <td>2021</td>\n      <td>0</td>\n      <td>6</td>\n      <td>404.04</td>\n      <td>561.95</td>\n      <td>52.85</td>\n      <td>5.18</td>\n      <td>2.60</td>\n      <td>16.43</td>\n      <td>482</td>\n    </tr>\n    <tr>\n      <th>2</th>\n      <td>3</td>\n      <td>1</td>\n      <td>2021</td>\n      <td>1</td>\n      <td>7</td>\n      <td>225.07</td>\n      <td>239.04</td>\n      <td>170.95</td>\n      <td>10.93</td>\n      <td>1.40</td>\n      <td>44.29</td>\n      <td>263</td>\n    </tr>\n    <tr>\n      <th>3</th>\n      <td>4</td>\n      <td>1</td>\n      <td>2021</td>\n      <td>0</td>\n      <td>1</td>\n      <td>89.55</td>\n      <td>132.08</td>\n      <td>153.98</td>\n      <td>10.42</td>\n      <td>1.01</td>\n      <td>49.19</td>\n      <td>207</td>\n    </tr>\n    <tr>\n      <th>4</th>\n      <td>5</td>\n      <td>1</td>\n      <td>2021</td>\n      <td>0</td>\n      <td>2</td>\n      <td>54.06</td>\n      <td>55.54</td>\n      <td>122.66</td>\n      <td>9.70</td>\n      <td>0.64</td>\n      <td>48.88</td>\n      <td>149</td>\n    </tr>\n  </tbody>\n</table>\n</div>"
          },
          "metadata": {}
        }
      ],
      "execution_count": null
    },
    {
      "cell_type": "code",
      "source": [
        "from sklearn.feature_selection import VarianceThreshold\n",
        "\n",
        "# Check shape before feature selection\n",
        "print(\"Original shape:\", df.shape)\n",
        "\n",
        "# Remove non-numeric columns for variance analysis\n",
        "df_numeric = df.select_dtypes(include=['int64', 'float64'])\n",
        "\n",
        "# Constant Features: Variance = 0\n",
        "selector = VarianceThreshold(threshold=0.0)\n",
        "selector.fit(df_numeric)\n",
        "constant_features = df_numeric.columns[~selector.get_support()]\n",
        "print(\"Constant features:\", list(constant_features))"
      ],
      "metadata": {
        "trusted": true,
        "execution": {
          "iopub.status.busy": "2025-08-01T04:12:38.580044Z",
          "iopub.execute_input": "2025-08-01T04:12:38.581037Z",
          "iopub.status.idle": "2025-08-01T04:12:39.755948Z",
          "shell.execute_reply.started": "2025-08-01T04:12:38.581002Z",
          "shell.execute_reply": "2025-08-01T04:12:39.754601Z"
        },
        "id": "TgxCwon1AYRF",
        "outputId": "4faf7232-4fd4-4b5e-f4d4-4f8a6c13a8a2"
      },
      "outputs": [
        {
          "name": "stdout",
          "text": "Original shape: (1461, 12)\nConstant features: []\n",
          "output_type": "stream"
        }
      ],
      "execution_count": null
    },
    {
      "cell_type": "code",
      "source": [
        "selector_quasi = VarianceThreshold(threshold=0.01)\n",
        "selector_quasi.fit(df_numeric)\n",
        "quasi_constant_features = df_numeric.columns[~selector_quasi.get_support()]\n",
        "print(\"Quasi-constant features:\", list(quasi_constant_features))"
      ],
      "metadata": {
        "trusted": true,
        "execution": {
          "iopub.status.busy": "2025-08-01T04:12:51.71685Z",
          "iopub.execute_input": "2025-08-01T04:12:51.717376Z",
          "iopub.status.idle": "2025-08-01T04:12:51.726034Z",
          "shell.execute_reply.started": "2025-08-01T04:12:51.717346Z",
          "shell.execute_reply": "2025-08-01T04:12:51.725075Z"
        },
        "id": "__8ZbcDYAYRG",
        "outputId": "9bbe4e25-03b6-4962-d3af-88b17495c8fc"
      },
      "outputs": [
        {
          "name": "stdout",
          "text": "Quasi-constant features: []\n",
          "output_type": "stream"
        }
      ],
      "execution_count": null
    },
    {
      "cell_type": "code",
      "source": [
        "from sklearn.feature_selection import mutual_info_regression\n",
        "from sklearn.preprocessing import LabelEncoder\n",
        "import pandas as pd\n",
        "\n",
        "# Set target\n",
        "target_col = 'AQI'\n",
        "\n",
        "# Drop non-numeric and non-feature columns\n",
        "X = df.drop(columns=[target_col, 'Date'])  # Drop 'Date' (non-numeric) and target\n",
        "X = X.select_dtypes(include=['int64', 'float64']).fillna(0)\n",
        "y = df[target_col]\n",
        "\n",
        "# Compute mutual information\n",
        "mi_scores = mutual_info_regression(X, y)\n",
        "\n",
        "# Format results\n",
        "mi_df = pd.DataFrame({\n",
        "    'Feature': X.columns,\n",
        "    'Mutual Information': mi_scores\n",
        "}).sort_values(by='Mutual Information', ascending=False)\n",
        "\n",
        "print(mi_df)\n",
        "\n"
      ],
      "metadata": {
        "trusted": true,
        "execution": {
          "iopub.status.busy": "2025-08-01T04:28:14.357797Z",
          "iopub.execute_input": "2025-08-01T04:28:14.358629Z",
          "iopub.status.idle": "2025-08-01T04:28:14.47219Z",
          "shell.execute_reply.started": "2025-08-01T04:28:14.3586Z",
          "shell.execute_reply": "2025-08-01T04:28:14.471281Z"
        },
        "id": "DV8NT5wzAYRG",
        "outputId": "e068feca-b2bf-449d-8c4a-4457a5093018"
      },
      "outputs": [
        {
          "name": "stdout",
          "text": "          Feature  Mutual Information\n5            PM10            1.141376\n4           PM2.5            0.916583\n0           Month            0.446160\n8              CO            0.396811\n7             SO2            0.178259\n6             NO2            0.126459\n9           Ozone            0.060755\n1            Year            0.048511\n2  Holidays_Count            0.002422\n3            Days            0.000113\n",
          "output_type": "stream"
        }
      ],
      "execution_count": null
    },
    {
      "cell_type": "code",
      "source": [
        "print(df.columns)\n"
      ],
      "metadata": {
        "trusted": true,
        "execution": {
          "iopub.status.busy": "2025-08-01T04:27:41.042638Z",
          "iopub.execute_input": "2025-08-01T04:27:41.042939Z",
          "iopub.status.idle": "2025-08-01T04:27:41.049995Z",
          "shell.execute_reply.started": "2025-08-01T04:27:41.042915Z",
          "shell.execute_reply": "2025-08-01T04:27:41.049039Z"
        },
        "id": "52BH0JHrAYRH",
        "outputId": "9a663837-482a-4ecc-9718-d3dbfd14ea83"
      },
      "outputs": [
        {
          "name": "stdout",
          "text": "Index(['Date', 'Month', 'Year', 'Holidays_Count', 'Days', 'PM2.5', 'PM10',\n       'NO2', 'SO2', 'CO', 'Ozone', 'AQI'],\n      dtype='object')\n",
          "output_type": "stream"
        }
      ],
      "execution_count": null
    },
    {
      "cell_type": "code",
      "source": [
        "import seaborn as sns\n",
        "import matplotlib.pyplot as plt\n",
        "\n",
        "sns.barplot(data=mi_df, x='Mutual Information', y='Feature', palette='viridis')\n",
        "plt.title('Mutual Information with AQI')\n",
        "plt.tight_layout()\n",
        "plt.show()\n"
      ],
      "metadata": {
        "trusted": true,
        "execution": {
          "iopub.status.busy": "2025-08-01T04:28:46.531892Z",
          "iopub.execute_input": "2025-08-01T04:28:46.532234Z",
          "iopub.status.idle": "2025-08-01T04:28:47.177638Z",
          "shell.execute_reply.started": "2025-08-01T04:28:46.532211Z",
          "shell.execute_reply": "2025-08-01T04:28:47.176369Z"
        },
        "id": "AN51ckFDAYRH",
        "outputId": "a684689e-1ad7-4ff4-f803-125dffddd78d"
      },
      "outputs": [
        {
          "output_type": "display_data",
          "data": {
            "text/plain": "<Figure size 640x480 with 1 Axes>",
            "image/png": "[encoded data removed]"
          },
          "metadata": {}
        }
      ],
      "execution_count": null
    },
    {
      "cell_type": "code",
      "source": [
        "import pandas as pd\n",
        "import numpy as np\n",
        "\n",
        "# Set seed for reproducibility\n",
        "np.random.seed(42)\n",
        "\n",
        "# Create 100 rows\n",
        "n_rows = 100\n",
        "\n",
        "# Real features\n",
        "data = {\n",
        "    'feature_1': np.random.normal(loc=10, scale=2, size=n_rows),  # Regular numeric feature\n",
        "    'feature_2': np.random.uniform(5, 15, size=n_rows),            # Another real feature\n",
        "}\n",
        "\n",
        "# Constant feature (not zero)\n",
        "data['constant_feature'] = 7\n",
        "\n",
        "# Quasi-constant feature (mostly same value, not zero)\n",
        "data['quasi_constant_feature'] = np.full(n_rows, 3)\n",
        "data['quasi_constant_feature'][:3] = [2.9, 3.1, 3.05]  # introduce small variation in a few rows\n",
        "\n",
        "# Target\n",
        "data['target'] = np.random.randint(0, 2, size=n_rows)\n",
        "\n",
        "# Create DataFrame\n",
        "df_synthetic = pd.DataFrame(data)\n",
        "\n",
        "# Check\n",
        "print(df_synthetic.head())\n"
      ],
      "metadata": {
        "trusted": true,
        "execution": {
          "iopub.status.busy": "2025-08-01T04:29:43.429459Z",
          "iopub.execute_input": "2025-08-01T04:29:43.429939Z",
          "iopub.status.idle": "2025-08-01T04:29:43.441407Z",
          "shell.execute_reply.started": "2025-08-01T04:29:43.429915Z",
          "shell.execute_reply": "2025-08-01T04:29:43.440472Z"
        },
        "id": "idJIJzY-AYRI",
        "outputId": "0022413c-b27c-4253-aaa8-e45cde3734ce"
      },
      "outputs": [
        {
          "name": "stdout",
          "text": "   feature_1  feature_2  constant_feature  quasi_constant_feature  target\n0  10.993428   9.174110                 7                       2       1\n1   9.723471   7.221078                 7                       3       0\n2  11.295377   6.198654                 7                       3       1\n3  13.046060   8.376152                 7                       3       0\n4   9.531693  14.429097                 7                       3       1\n",
          "output_type": "stream"
        }
      ],
      "execution_count": null
    },
    {
      "cell_type": "code",
      "source": [
        "import kagglehub\n",
        "\n",
        "# Download latest version\n",
        "path = kagglehub.dataset_download(\"mhassansaboor/uber-stocks-dataset-2025\")\n",
        "\n",
        "print(\"Path to dataset files:\", path)"
      ],
      "metadata": {
        "trusted": true,
        "execution": {
          "iopub.status.busy": "2025-08-01T04:33:01.336372Z",
          "iopub.execute_input": "2025-08-01T04:33:01.336722Z",
          "iopub.status.idle": "2025-08-01T04:33:09.706684Z",
          "shell.execute_reply.started": "2025-08-01T04:33:01.336698Z",
          "shell.execute_reply": "2025-08-01T04:33:09.705213Z"
        },
        "id": "4vqoBnbJAYRI",
        "outputId": "cdb8b366-df34-4760-f050-65b94b121fb1"
      },
      "outputs": [
        {
          "name": "stdout",
          "text": "Path to dataset files: /kaggle/input/uber-stocks-dataset-2025\n",
          "output_type": "stream"
        }
      ],
      "execution_count": null
    },
    {
      "cell_type": "code",
      "source": [
        "import pandas as pd\n",
        "import os\n",
        "\n",
        "print(os.listdir(path))\n",
        "df = pd.read_csv(os.path.join(path, \"uber_stock_data.csv\"))\n",
        "df.head()\n"
      ],
      "metadata": {
        "trusted": true,
        "execution": {
          "iopub.status.busy": "2025-08-01T04:38:21.090181Z",
          "iopub.execute_input": "2025-08-01T04:38:21.090477Z",
          "iopub.status.idle": "2025-08-01T04:38:21.119977Z",
          "shell.execute_reply.started": "2025-08-01T04:38:21.090457Z",
          "shell.execute_reply": "2025-08-01T04:38:21.118921Z"
        },
        "id": "eC4FH0aTAYRI",
        "outputId": "dff8d5ee-587a-4001-edbc-084be736d522"
      },
      "outputs": [
        {
          "name": "stdout",
          "text": "['uber_stock_data.csv']\n",
          "output_type": "stream"
        },
        {
          "execution_count": 17,
          "output_type": "execute_result",
          "data": {
            "text/plain": "         Date  Adj Close      Close       High        Low       Open  \\\n0  2019-05-10  41.570000  41.570000  45.000000  41.060001  42.000000   \n1  2019-05-13  37.099998  37.099998  39.240002  36.080002  38.790001   \n2  2019-05-14  39.959999  39.959999  39.959999  36.849998  38.310001   \n3  2019-05-15  41.290001  41.290001  41.880001  38.950001  39.369999   \n4  2019-05-16  43.000000  43.000000  44.060001  41.250000  41.480000   \n\n      Volume  \n0  186322500  \n1   79442400  \n2   46661100  \n3   36086100  \n4   38115500  ",
            "text/html": "<div>\n<style scoped>\n    .dataframe tbody tr th:only-of-type {\n        vertical-align: middle;\n    }\n\n    .dataframe tbody tr th {\n        vertical-align: top;\n    }\n\n    .dataframe thead th {\n        text-align: right;\n    }\n</style>\n<table border=\"1\" class=\"dataframe\">\n  <thead>\n    <tr style=\"text-align: right;\">\n      <th></th>\n      <th>Date</th>\n      <th>Adj Close</th>\n      <th>Close</th>\n      <th>High</th>\n      <th>Low</th>\n      <th>Open</th>\n      <th>Volume</th>\n    </tr>\n  </thead>\n  <tbody>\n    <tr>\n      <th>0</th>\n      <td>2019-05-10</td>\n      <td>41.570000</td>\n      <td>41.570000</td>\n      <td>45.000000</td>\n      <td>41.060001</td>\n      <td>42.000000</td>\n      <td>186322500</td>\n    </tr>\n    <tr>\n      <th>1</th>\n      <td>2019-05-13</td>\n      <td>37.099998</td>\n      <td>37.099998</td>\n      <td>39.240002</td>\n      <td>36.080002</td>\n      <td>38.790001</td>\n      <td>79442400</td>\n    </tr>\n    <tr>\n      <th>2</th>\n      <td>2019-05-14</td>\n      <td>39.959999</td>\n      <td>39.959999</td>\n      <td>39.959999</td>\n      <td>36.849998</td>\n      <td>38.310001</td>\n      <td>46661100</td>\n    </tr>\n    <tr>\n      <th>3</th>\n      <td>2019-05-15</td>\n      <td>41.290001</td>\n      <td>41.290001</td>\n      <td>41.880001</td>\n      <td>38.950001</td>\n      <td>39.369999</td>\n      <td>36086100</td>\n    </tr>\n    <tr>\n      <th>4</th>\n      <td>2019-05-16</td>\n      <td>43.000000</td>\n      <td>43.000000</td>\n      <td>44.060001</td>\n      <td>41.250000</td>\n      <td>41.480000</td>\n      <td>38115500</td>\n    </tr>\n  </tbody>\n</table>\n</div>"
          },
          "metadata": {}
        }
      ],
      "execution_count": null
    },
    {
      "cell_type": "code",
      "source": [
        "print(df.tail)"
      ],
      "metadata": {
        "trusted": true,
        "execution": {
          "iopub.status.busy": "2025-08-01T04:39:57.393032Z",
          "iopub.execute_input": "2025-08-01T04:39:57.393434Z",
          "iopub.status.idle": "2025-08-01T04:39:57.404512Z",
          "shell.execute_reply.started": "2025-08-01T04:39:57.393384Z",
          "shell.execute_reply": "2025-08-01T04:39:57.403178Z"
        },
        "id": "5kYwPnPiAYRJ",
        "outputId": "cb46df18-be3a-4a28-bbb9-c4184ec72b49"
      },
      "outputs": [
        {
          "name": "stdout",
          "text": "<bound method NDFrame.tail of             Date  Adj Close      Close       High        Low       Open  \\\n0     2019-05-10  41.570000  41.570000  45.000000  41.060001  42.000000   \n1     2019-05-13  37.099998  37.099998  39.240002  36.080002  38.790001   \n2     2019-05-14  39.959999  39.959999  39.959999  36.849998  38.310001   \n3     2019-05-15  41.290001  41.290001  41.880001  38.950001  39.369999   \n4     2019-05-16  43.000000  43.000000  44.060001  41.250000  41.480000   \n...          ...        ...        ...        ...        ...        ...   \n1439  2025-01-30  66.589996  66.589996  67.222000  63.419998  63.419998   \n1440  2025-01-31  66.849998  66.849998  67.870003  66.333000  67.089996   \n1441  2025-02-03  67.290001  67.290001  68.849998  65.178001  65.300003   \n1442  2025-02-04  69.750000  69.750000  70.190002  67.690002  67.690002   \n1443  2025-02-05  64.480003  64.480003  66.750000  63.500000  66.500000   \n\n         Volume  \n0     186322500  \n1      79442400  \n2      46661100  \n3      36086100  \n4      38115500  \n...         ...  \n1439   33246500  \n1440   19805600  \n1441   25290000  \n1442   33786200  \n1443   74772959  \n\n[1444 rows x 7 columns]>\n",
          "output_type": "stream"
        }
      ],
      "execution_count": null
    },
    {
      "cell_type": "code",
      "source": [
        "print(df.describe())"
      ],
      "metadata": {
        "trusted": true,
        "execution": {
          "iopub.status.busy": "2025-08-01T04:40:41.907934Z",
          "iopub.execute_input": "2025-08-01T04:40:41.908546Z",
          "iopub.status.idle": "2025-08-01T04:40:41.932677Z",
          "shell.execute_reply.started": "2025-08-01T04:40:41.90852Z",
          "shell.execute_reply": "2025-08-01T04:40:41.931886Z"
        },
        "id": "1Y9kdtaTAYRJ",
        "outputId": "c7c02fc8-a262-44c6-abbf-f02b26cbbbfc"
      },
      "outputs": [
        {
          "name": "stdout",
          "text": "         Adj Close        Close         High          Low         Open  \\\ncount  1444.000000  1444.000000  1444.000000  1444.000000  1444.000000   \nmean     44.465374    44.465374    45.287511    43.643301    44.493022   \nstd      15.594262    15.594262    15.740825    15.482652    15.643967   \nmin      14.820000    14.820000    17.799999    13.710000    15.960000   \n25%      31.930000    31.930000    32.653749    31.181250    31.867499   \n50%      41.355001    41.355001    41.910000    40.518499    41.215000   \n75%      54.719999    54.719999    55.635001    53.597502    54.664999   \nmax      86.339996    86.339996    87.000000    84.180000    85.639999   \n\n             Volume  \ncount  1.444000e+03  \nmean   2.429800e+07  \nstd    1.774084e+07  \nmin    3.380000e+06  \n25%    1.498905e+07  \n50%    2.036965e+07  \n75%    2.843280e+07  \nmax    3.642318e+08  \n",
          "output_type": "stream"
        }
      ],
      "execution_count": null
    },
    {
      "cell_type": "code",
      "source": [
        "print(df.isnull().sum())"
      ],
      "metadata": {
        "trusted": true,
        "execution": {
          "iopub.status.busy": "2025-08-01T04:41:54.044906Z",
          "iopub.execute_input": "2025-08-01T04:41:54.046192Z",
          "iopub.status.idle": "2025-08-01T04:41:54.055008Z",
          "shell.execute_reply.started": "2025-08-01T04:41:54.046051Z",
          "shell.execute_reply": "2025-08-01T04:41:54.053165Z"
        },
        "id": "QU0d8QQiAYRJ",
        "outputId": "cd97d502-0e64-46f5-bf18-0f42dc7cf4b8"
      },
      "outputs": [
        {
          "name": "stdout",
          "text": "Date         0\nAdj Close    0\nClose        0\nHigh         0\nLow          0\nOpen         0\nVolume       0\ndtype: int64\n",
          "output_type": "stream"
        }
      ],
      "execution_count": null
    },
    {
      "cell_type": "code",
      "source": [
        "import matplotlib.pyplot as plt\n",
        "\n",
        "plt.plot(df['Date'], df['Close'], label='Close Price')\n",
        "plt.xlabel('Date')\n",
        "plt.ylabel('Price')\n",
        "plt.title('Uber Closing Prices Over Time')\n",
        "plt.legend()\n",
        "plt.show()\n"
      ],
      "metadata": {
        "trusted": true,
        "execution": {
          "iopub.status.busy": "2025-08-01T04:45:47.257875Z",
          "iopub.execute_input": "2025-08-01T04:45:47.258232Z",
          "iopub.status.idle": "2025-08-01T04:45:54.17169Z",
          "shell.execute_reply.started": "2025-08-01T04:45:47.258208Z",
          "shell.execute_reply": "2025-08-01T04:45:54.170452Z"
        },
        "id": "-ap81HgVAYRJ",
        "outputId": "90496ab1-99f9-4d32-d4e1-8c04bbc0d5cd"
      },
      "outputs": [
        {
          "output_type": "display_data",
          "data": {
            "text/plain": "<Figure size 640x480 with 1 Axes>",
            "image/png": "[encoded data removed]"
          },
          "metadata": {}
        }
      ],
      "execution_count": null
    },
    {
      "cell_type": "code",
      "source": [
        "from sklearn.model_selection import train_test_split\n",
        "from sklearn.feature_selection import VarianceThreshold\n",
        "import pandas as pd\n",
        "import os\n",
        "\n",
        "print(os.listdir(path))\n",
        "df = pd.read_csv(os.path.join(path, \"uber_stock_data.csv\"))\n",
        "df.shape"
      ],
      "metadata": {
        "trusted": true,
        "execution": {
          "iopub.status.busy": "2025-08-01T04:49:48.573685Z",
          "iopub.execute_input": "2025-08-01T04:49:48.573989Z",
          "iopub.status.idle": "2025-08-01T04:49:48.589216Z",
          "shell.execute_reply.started": "2025-08-01T04:49:48.573967Z",
          "shell.execute_reply": "2025-08-01T04:49:48.588249Z"
        },
        "id": "FDL5CVDKAYRJ",
        "outputId": "188a2fe1-63c9-4b7d-93ed-ca6c4b26d3a8"
      },
      "outputs": [
        {
          "name": "stdout",
          "text": "['uber_stock_data.csv']\n",
          "output_type": "stream"
        },
        {
          "execution_count": 30,
          "output_type": "execute_result",
          "data": {
            "text/plain": "(1444, 7)"
          },
          "metadata": {}
        }
      ],
      "execution_count": null
    },
    {
      "cell_type": "code",
      "source": [
        "[col for col in df.columns if df[col].isnull().sum() > 0]\n"
      ],
      "metadata": {
        "trusted": true,
        "execution": {
          "iopub.status.busy": "2025-08-01T04:52:02.813749Z",
          "iopub.execute_input": "2025-08-01T04:52:02.81408Z",
          "iopub.status.idle": "2025-08-01T04:52:02.822182Z",
          "shell.execute_reply.started": "2025-08-01T04:52:02.814055Z",
          "shell.execute_reply": "2025-08-01T04:52:02.821353Z"
        },
        "id": "4CQ70DjrAYRK",
        "outputId": "486099f3-d74b-4b4e-ebe1-8ca6f6a84df4"
      },
      "outputs": [
        {
          "execution_count": 34,
          "output_type": "execute_result",
          "data": {
            "text/plain": "[]"
          },
          "metadata": {}
        }
      ],
      "execution_count": null
    },
    {
      "cell_type": "code",
      "source": [
        "from sklearn.model_selection import train_test_split\n",
        "target = 'Close'\n",
        "X = df.drop(columns=['Date', target])\n",
        "y = df[target]\n",
        "x_train, x_test, y_train, y_test = train_test_split(\n",
        "    X, y, test_size=0.2, random_state=42\n",
        ")\n",
        "print(f\"Training samples: {x_train.shape[0]}\")\n",
        "print(f\"Testing samples: {x_test.shape[0]}\")\n"
      ],
      "metadata": {
        "trusted": true,
        "execution": {
          "iopub.status.busy": "2025-08-01T04:54:06.033766Z",
          "iopub.execute_input": "2025-08-01T04:54:06.034068Z",
          "iopub.status.idle": "2025-08-01T04:54:06.045375Z",
          "shell.execute_reply.started": "2025-08-01T04:54:06.034047Z",
          "shell.execute_reply": "2025-08-01T04:54:06.044482Z"
        },
        "id": "_38OJQg8AYRK",
        "outputId": "fe0fc60d-a734-4f2a-e5b0-78c6fa57f227"
      },
      "outputs": [
        {
          "name": "stdout",
          "text": "Training samples: 1155\nTesting samples: 289\n",
          "output_type": "stream"
        }
      ],
      "execution_count": null
    },
    {
      "cell_type": "code",
      "source": [
        "# Identify constant features (std == 0)\n",
        "constant_features = [\n",
        "    feature for feature in x_train.columns if x_train[feature].std() == 0\n",
        "]\n",
        "\n",
        "print(\"Constant features:\", constant_features)\n",
        "print(\"Number of constant features:\", len(constant_features))\n"
      ],
      "metadata": {
        "trusted": true,
        "execution": {
          "iopub.status.busy": "2025-08-01T04:58:42.950776Z",
          "iopub.execute_input": "2025-08-01T04:58:42.951104Z",
          "iopub.status.idle": "2025-08-01T04:58:42.959867Z",
          "shell.execute_reply.started": "2025-08-01T04:58:42.951082Z",
          "shell.execute_reply": "2025-08-01T04:58:42.957862Z"
        },
        "id": "0FQ2TMCfAYRK",
        "outputId": "1fbd9bc2-0c9d-4542-9086-3c01783d179c"
      },
      "outputs": [
        {
          "name": "stdout",
          "text": "Constant features: []\nNumber of constant features: 0\n",
          "output_type": "stream"
        }
      ],
      "execution_count": null
    }
  ]
}
