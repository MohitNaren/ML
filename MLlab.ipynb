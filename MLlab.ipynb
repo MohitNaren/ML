{
  "nbformat": 4,
  "nbformat_minor": 0,
  "metadata": {
    "colab": {
      "provenance": [],
      "authorship_tag": "ABX9TyPR9iPv50RaoOewXPK0FVK9",
      "include_colab_link": true
    },
    "kernelspec": {
      "name": "python3",
      "display_name": "Python 3"
    },
    "language_info": {
      "name": "python"
    }
  },
  "cells": [
    {
      "cell_type": "markdown",
      "metadata": {
        "id": "view-in-github",
        "colab_type": "text"
      },
      "source": [
        "<a href=\"https://colab.research.google.com/github/MohitNaren/ML/blob/main/MLlab.ipynb\" target=\"_parent\"><img src=\"https://colab.research.google.com/assets/colab-badge.svg\" alt=\"Open In Colab\"/></a>"
      ]
    },
    {
      "cell_type": "code",
      "execution_count": null,
      "metadata": {
        "colab": {
          "base_uri": "https://localhost:8080/"
        },
        "id": "pXOemEhSqPpQ",
        "outputId": "7e756adf-f2d5-4461-c2cc-f23720c98a7e"
      },
      "outputs": [
        {
          "output_type": "stream",
          "name": "stdout",
          "text": [
            "[[ 10  13]\n",
            " [ 28  40]\n",
            " [ 46  67]\n",
            " [ 64  94]\n",
            " [ 82 121]]\n"
          ]
        }
      ],
      "source": [
        "import numpy as np\n",
        "n = np.arange(15).reshape(5,3)\n",
        "n1 = np.arange(6).reshape(3,2)\n",
        "print(np.dot(n,n1))"
      ]
    },
    {
      "cell_type": "code",
      "source": [
        "n = np.arange(11)\n",
        "n2 =(n[n%2 != 0])\n",
        "print(n2)"
      ],
      "metadata": {
        "colab": {
          "base_uri": "https://localhost:8080/"
        },
        "id": "_l6Tf7JC2f0N",
        "outputId": "d83f96f4-e0f9-4b91-93ca-8b250548efb4"
      },
      "execution_count": null,
      "outputs": [
        {
          "output_type": "stream",
          "name": "stdout",
          "text": [
            "[1 3 5 7 9]\n"
          ]
        }
      ]
    },
    {
      "cell_type": "code",
      "source": [
        "n = np.array([1,2,-1,2,-2,3,4,5])\n",
        "n= [n>0]\n",
        "print(n)"
      ],
      "metadata": {
        "colab": {
          "base_uri": "https://localhost:8080/"
        },
        "id": "9oZsgPX92kll",
        "outputId": "408c47e7-c554-41b3-ff9b-794a9ef4e705"
      },
      "execution_count": null,
      "outputs": [
        {
          "output_type": "stream",
          "name": "stdout",
          "text": [
            "[array([ True,  True, False,  True, False,  True,  True,  True])]\n"
          ]
        }
      ]
    },
    {
      "cell_type": "code",
      "source": [
        "n = np.arange(1,11)\n",
        "n[n % 2 == 0] *= -1\n",
        "print(n)"
      ],
      "metadata": {
        "colab": {
          "base_uri": "https://localhost:8080/"
        },
        "id": "LhMVAzFi2uiF",
        "outputId": "cf88505f-25d4-4d22-ab46-d77d01ce7c30"
      },
      "execution_count": null,
      "outputs": [
        {
          "output_type": "stream",
          "name": "stdout",
          "text": [
            "[  1  -2   3  -4   5  -6   7  -8   9 -10]\n"
          ]
        }
      ]
    },
    {
      "cell_type": "code",
      "source": [
        "n = np.array([1,2,0,0,0,4,0,0])\n",
        "print(np.nonzero(n))"
      ],
      "metadata": {
        "colab": {
          "base_uri": "https://localhost:8080/"
        },
        "id": "w45RW9G929VF",
        "outputId": "9b61b132-1caf-4af9-bf11-23a5bc198ad5"
      },
      "execution_count": null,
      "outputs": [
        {
          "output_type": "stream",
          "name": "stdout",
          "text": [
            "(array([0, 1, 5]),)\n"
          ]
        }
      ]
    },
    {
      "cell_type": "code",
      "source": [
        "n= np.arange(1,11)\n",
        "print(np.flip(n))"
      ],
      "metadata": {
        "colab": {
          "base_uri": "https://localhost:8080/"
        },
        "id": "OrTDDjoT3hJ3",
        "outputId": "2d87f4f0-6851-4525-f225-b78b13ef3c09"
      },
      "execution_count": null,
      "outputs": [
        {
          "output_type": "stream",
          "name": "stdout",
          "text": [
            "[10  9  8  7  6  5  4  3  2  1]\n"
          ]
        }
      ]
    },
    {
      "cell_type": "code",
      "source": [
        "n1= np.arange(1,12)\n",
        "n2= np.arange(11,21)\n",
        "print(np.intersect1d(n1,n2))"
      ],
      "metadata": {
        "colab": {
          "base_uri": "https://localhost:8080/"
        },
        "id": "6D1HPmur3rMN",
        "outputId": "b50126b9-bcca-4e8a-e0c1-be03fc6fe683"
      },
      "execution_count": null,
      "outputs": [
        {
          "output_type": "stream",
          "name": "stdout",
          "text": [
            "[11]\n"
          ]
        }
      ]
    },
    {
      "cell_type": "code",
      "source": [
        "n = np.random.randint(0,4,10)\n",
        "print(n.reshape(2,-1))"
      ],
      "metadata": {
        "colab": {
          "base_uri": "https://localhost:8080/"
        },
        "id": "uWDcYXM93-22",
        "outputId": "83363eeb-ca53-4c02-aa54-ecd745ff7868"
      },
      "execution_count": null,
      "outputs": [
        {
          "output_type": "stream",
          "name": "stdout",
          "text": [
            "[[1 1 0 1 3]\n",
            " [0 1 2 3 2]]\n"
          ]
        }
      ]
    },
    {
      "cell_type": "code",
      "source": [
        "n= np.array([1,1,1,1,2,2,2,3,3,3,4,5,5,6])\n",
        "print(np.bincount(n))"
      ],
      "metadata": {
        "colab": {
          "base_uri": "https://localhost:8080/"
        },
        "id": "YrHwtI-N4bt-",
        "outputId": "1494d9dc-0dd7-4a1c-963e-e05f02cd0973"
      },
      "execution_count": null,
      "outputs": [
        {
          "output_type": "stream",
          "name": "stdout",
          "text": [
            "[0 4 3 3 1 2 1]\n"
          ]
        }
      ]
    },
    {
      "cell_type": "code",
      "source": [
        "n = np.ones((5,5))\n",
        "n[1:-1,1:-1] = 0\n",
        "print(n)"
      ],
      "metadata": {
        "colab": {
          "base_uri": "https://localhost:8080/"
        },
        "id": "Zt2pqvkQ5l24",
        "outputId": "8a5c5c35-c061-439c-a72f-5e2ef7972997"
      },
      "execution_count": null,
      "outputs": [
        {
          "output_type": "stream",
          "name": "stdout",
          "text": [
            "[[1. 1. 1. 1. 1.]\n",
            " [1. 0. 0. 0. 1.]\n",
            " [1. 0. 0. 0. 1.]\n",
            " [1. 0. 0. 0. 1.]\n",
            " [1. 1. 1. 1. 1.]]\n"
          ]
        }
      ]
    },
    {
      "cell_type": "code",
      "source": [
        "n = np.random.random((2,2))\n",
        "print(np.mean(n, axis=0))"
      ],
      "metadata": {
        "colab": {
          "base_uri": "https://localhost:8080/"
        },
        "id": "DHc7gmlr6atH",
        "outputId": "6852109e-c345-48e0-f42f-cfa7a5b526b3"
      },
      "execution_count": null,
      "outputs": [
        {
          "output_type": "stream",
          "name": "stdout",
          "text": [
            "[0.80575314 0.73499594]\n"
          ]
        }
      ]
    },
    {
      "cell_type": "code",
      "source": [
        "n = np.arange(10)\n",
        "n1 = np.arange(10)\n",
        "print(np.concatenate((n, n1)))"
      ],
      "metadata": {
        "colab": {
          "base_uri": "https://localhost:8080/"
        },
        "id": "6tIGgLoO6dWe",
        "outputId": "f134dac0-a081-44d1-d6dc-94a6aa2c4793"
      },
      "execution_count": null,
      "outputs": [
        {
          "output_type": "stream",
          "name": "stdout",
          "text": [
            "[0 1 2 3 4 5 6 7 8 9 0 1 2 3 4 5 6 7 8 9]\n"
          ]
        }
      ]
    },
    {
      "cell_type": "code",
      "source": [
        "n = np.array([[1,3,5,7,3,4,6,9,24,56,24,3]]).reshape(4,3)\n",
        "print(n)\n",
        "print(np.sort(n, axis=1))"
      ],
      "metadata": {
        "colab": {
          "base_uri": "https://localhost:8080/"
        },
        "id": "H5c_dnef6f4t",
        "outputId": "32d78bdf-30ba-40ed-d0d1-312c8369e2a6"
      },
      "execution_count": null,
      "outputs": [
        {
          "output_type": "stream",
          "name": "stdout",
          "text": [
            "[[ 1  3  5]\n",
            " [ 7  3  4]\n",
            " [ 6  9 24]\n",
            " [56 24  3]]\n",
            "[[ 1  3  5]\n",
            " [ 3  4  7]\n",
            " [ 6  9 24]\n",
            " [ 3 24 56]]\n"
          ]
        }
      ]
    },
    {
      "cell_type": "code",
      "source": [
        "n = np.random.randint(10, 50, 20)\n",
        "print(n)\n",
        "print(np.percentile(n, 95))\n",
        "print(np.percentile(n, 5))"
      ],
      "metadata": {
        "colab": {
          "base_uri": "https://localhost:8080/"
        },
        "id": "Y1lHSV8c6iNu",
        "outputId": "eda70a2a-43db-407d-f922-68a776d63593"
      },
      "execution_count": null,
      "outputs": [
        {
          "output_type": "stream",
          "name": "stdout",
          "text": [
            "[12 49 44 17 11 39 30 28 22 23 14 11 26 23 41 40 20 16 33 36]\n",
            "44.25\n",
            "11.0\n"
          ]
        }
      ]
    },
    {
      "cell_type": "code",
      "source": [
        "n = np.array([1,2,3,-1,-4,5,-3,5,6,7,-8])\n",
        "n[n < 0] = 0\n",
        "print(n)"
      ],
      "metadata": {
        "colab": {
          "base_uri": "https://localhost:8080/"
        },
        "id": "w9XLbruo6kAG",
        "outputId": "0f48370a-42c7-4b49-da24-67e7fea143f4"
      },
      "execution_count": null,
      "outputs": [
        {
          "output_type": "stream",
          "name": "stdout",
          "text": [
            "[1 2 3 0 0 5 0 5 6 7 0]\n"
          ]
        }
      ]
    },
    {
      "cell_type": "code",
      "source": [
        "a1 = np.array([1,2,3,4])\n",
        "a2 = np.array([2,3,4,5])\n",
        "mse = np.mean((a1 - a2)**2)\n",
        "print(mse)"
      ],
      "metadata": {
        "colab": {
          "base_uri": "https://localhost:8080/"
        },
        "id": "2HRbQ6bb6tEn",
        "outputId": "c8df33da-8654-49ba-dc51-6fda7c367184"
      },
      "execution_count": null,
      "outputs": [
        {
          "output_type": "stream",
          "name": "stdout",
          "text": [
            "1.0\n"
          ]
        }
      ]
    },
    {
      "cell_type": "code",
      "source": [],
      "metadata": {
        "id": "douLKQrQ7k3f"
      },
      "execution_count": null,
      "outputs": []
    }
  ]
}