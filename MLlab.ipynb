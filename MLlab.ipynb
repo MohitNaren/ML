{
  "nbformat": 4,
  "nbformat_minor": 0,
  "metadata": {
    "colab": {
      "provenance": [],
      "authorship_tag": "ABX9TyNgyeDCbBNNI4Jy+swK8IMp",
      "include_colab_link": true
    },
    "kernelspec": {
      "name": "python3",
      "display_name": "Python 3"
    },
    "language_info": {
      "name": "python"
    }
  },
  "cells": [
    {
      "cell_type": "markdown",
      "metadata": {
        "id": "view-in-github",
        "colab_type": "text"
      },
      "source": [
        "<a href=\"https://colab.research.google.com/github/MohitNaren/ML/blob/main/MLlab.ipynb\" target=\"_parent\"><img src=\"https://colab.research.google.com/assets/colab-badge.svg\" alt=\"Open In Colab\"/></a>"
      ]
    },
    {
      "cell_type": "code",
      "execution_count": null,
      "metadata": {
        "colab": {
          "base_uri": "https://localhost:8080/"
        },
        "id": "pXOemEhSqPpQ",
        "outputId": "7e756adf-f2d5-4461-c2cc-f23720c98a7e"
      },
      "outputs": [
        {
          "output_type": "stream",
          "name": "stdout",
          "text": [
            "[[ 10  13]\n",
            " [ 28  40]\n",
            " [ 46  67]\n",
            " [ 64  94]\n",
            " [ 82 121]]\n"
          ]
        }
      ],
      "source": [
        "import numpy as np\n",
        "n = np.arange(15).reshape(5,3)\n",
        "n1 = np.arange(6).reshape(3,2)\n",
        "print(np.dot(n,n1))"
      ]
    },
    {
      "cell_type": "code",
      "source": [
        "n = np.arange(11)\n",
        "n2 =(n[n%2 != 0])\n",
        "print(n2)"
      ],
      "metadata": {
        "colab": {
          "base_uri": "https://localhost:8080/"
        },
        "id": "_l6Tf7JC2f0N",
        "outputId": "d83f96f4-e0f9-4b91-93ca-8b250548efb4"
      },
      "execution_count": null,
      "outputs": [
        {
          "output_type": "stream",
          "name": "stdout",
          "text": [
            "[1 3 5 7 9]\n"
          ]
        }
      ]
    },
    {
      "cell_type": "code",
      "source": [
        "n = np.array([1,2,-1,2,-2,3,4,5])\n",
        "n= [n>0]\n",
        "print(n)"
      ],
      "metadata": {
        "colab": {
          "base_uri": "https://localhost:8080/"
        },
        "id": "9oZsgPX92kll",
        "outputId": "408c47e7-c554-41b3-ff9b-794a9ef4e705"
      },
      "execution_count": null,
      "outputs": [
        {
          "output_type": "stream",
          "name": "stdout",
          "text": [
            "[array([ True,  True, False,  True, False,  True,  True,  True])]\n"
          ]
        }
      ]
    },
    {
      "cell_type": "code",
      "source": [
        "n = np.arange(1,11)\n",
        "n[n % 2 == 0] *= -1\n",
        "print(n)"
      ],
      "metadata": {
        "colab": {
          "base_uri": "https://localhost:8080/"
        },
        "id": "LhMVAzFi2uiF",
        "outputId": "cf88505f-25d4-4d22-ab46-d77d01ce7c30"
      },
      "execution_count": null,
      "outputs": [
        {
          "output_type": "stream",
          "name": "stdout",
          "text": [
            "[  1  -2   3  -4   5  -6   7  -8   9 -10]\n"
          ]
        }
      ]
    },
    {
      "cell_type": "code",
      "source": [
        "n = np.array([1,2,0,0,0,4,0,0])\n",
        "print(np.nonzero(n))"
      ],
      "metadata": {
        "colab": {
          "base_uri": "https://localhost:8080/"
        },
        "id": "w45RW9G929VF",
        "outputId": "9b61b132-1caf-4af9-bf11-23a5bc198ad5"
      },
      "execution_count": null,
      "outputs": [
        {
          "output_type": "stream",
          "name": "stdout",
          "text": [
            "(array([0, 1, 5]),)\n"
          ]
        }
      ]
    },
    {
      "cell_type": "code",
      "source": [
        "n= np.arange(1,11)\n",
        "print(np.flip(n))"
      ],
      "metadata": {
        "colab": {
          "base_uri": "https://localhost:8080/"
        },
        "id": "OrTDDjoT3hJ3",
        "outputId": "2d87f4f0-6851-4525-f225-b78b13ef3c09"
      },
      "execution_count": null,
      "outputs": [
        {
          "output_type": "stream",
          "name": "stdout",
          "text": [
            "[10  9  8  7  6  5  4  3  2  1]\n"
          ]
        }
      ]
    },
    {
      "cell_type": "code",
      "source": [
        "n1= np.arange(1,12)\n",
        "n2= np.arange(11,21)\n",
        "print(np.intersect1d(n1,n2))"
      ],
      "metadata": {
        "colab": {
          "base_uri": "https://localhost:8080/"
        },
        "id": "6D1HPmur3rMN",
        "outputId": "b50126b9-bcca-4e8a-e0c1-be03fc6fe683"
      },
      "execution_count": null,
      "outputs": [
        {
          "output_type": "stream",
          "name": "stdout",
          "text": [
            "[11]\n"
          ]
        }
      ]
    },
    {
      "cell_type": "code",
      "source": [
        "n = np.random.randint(0,4,10)\n",
        "print(n.reshape(2,-1))"
      ],
      "metadata": {
        "colab": {
          "base_uri": "https://localhost:8080/"
        },
        "id": "uWDcYXM93-22",
        "outputId": "83363eeb-ca53-4c02-aa54-ecd745ff7868"
      },
      "execution_count": null,
      "outputs": [
        {
          "output_type": "stream",
          "name": "stdout",
          "text": [
            "[[1 1 0 1 3]\n",
            " [0 1 2 3 2]]\n"
          ]
        }
      ]
    },
    {
      "cell_type": "code",
      "source": [
        "n= np.array([1,1,1,1,2,2,2,3,3,3,4,5,5,6])\n",
        "print(np.bincount(n))"
      ],
      "metadata": {
        "colab": {
          "base_uri": "https://localhost:8080/"
        },
        "id": "YrHwtI-N4bt-",
        "outputId": "1494d9dc-0dd7-4a1c-963e-e05f02cd0973"
      },
      "execution_count": null,
      "outputs": [
        {
          "output_type": "stream",
          "name": "stdout",
          "text": [
            "[0 4 3 3 1 2 1]\n"
          ]
        }
      ]
    },
    {
      "cell_type": "code",
      "source": [
        "n = np.ones((5,5))\n",
        "n[1:-1,1:-1] = 0\n",
        "print(n)"
      ],
      "metadata": {
        "colab": {
          "base_uri": "https://localhost:8080/"
        },
        "id": "Zt2pqvkQ5l24",
        "outputId": "8a5c5c35-c061-439c-a72f-5e2ef7972997"
      },
      "execution_count": null,
      "outputs": [
        {
          "output_type": "stream",
          "name": "stdout",
          "text": [
            "[[1. 1. 1. 1. 1.]\n",
            " [1. 0. 0. 0. 1.]\n",
            " [1. 0. 0. 0. 1.]\n",
            " [1. 0. 0. 0. 1.]\n",
            " [1. 1. 1. 1. 1.]]\n"
          ]
        }
      ]
    },
    {
      "cell_type": "code",
      "source": [
        "n = np.random.random((2,2))\n",
        "print(np.mean(n, axis=0))"
      ],
      "metadata": {
        "colab": {
          "base_uri": "https://localhost:8080/"
        },
        "id": "DHc7gmlr6atH",
        "outputId": "6852109e-c345-48e0-f42f-cfa7a5b526b3"
      },
      "execution_count": null,
      "outputs": [
        {
          "output_type": "stream",
          "name": "stdout",
          "text": [
            "[0.80575314 0.73499594]\n"
          ]
        }
      ]
    },
    {
      "cell_type": "code",
      "source": [
        "n = np.arange(10)\n",
        "n1 = np.arange(10)\n",
        "print(np.concatenate((n, n1)))"
      ],
      "metadata": {
        "colab": {
          "base_uri": "https://localhost:8080/"
        },
        "id": "6tIGgLoO6dWe",
        "outputId": "f134dac0-a081-44d1-d6dc-94a6aa2c4793"
      },
      "execution_count": null,
      "outputs": [
        {
          "output_type": "stream",
          "name": "stdout",
          "text": [
            "[0 1 2 3 4 5 6 7 8 9 0 1 2 3 4 5 6 7 8 9]\n"
          ]
        }
      ]
    },
    {
      "cell_type": "code",
      "source": [
        "n = np.array([[1,3,5,7,3,4,6,9,24,56,24,3]]).reshape(4,3)\n",
        "print(n)\n",
        "print(np.sort(n, axis=1))"
      ],
      "metadata": {
        "colab": {
          "base_uri": "https://localhost:8080/"
        },
        "id": "H5c_dnef6f4t",
        "outputId": "32d78bdf-30ba-40ed-d0d1-312c8369e2a6"
      },
      "execution_count": null,
      "outputs": [
        {
          "output_type": "stream",
          "name": "stdout",
          "text": [
            "[[ 1  3  5]\n",
            " [ 7  3  4]\n",
            " [ 6  9 24]\n",
            " [56 24  3]]\n",
            "[[ 1  3  5]\n",
            " [ 3  4  7]\n",
            " [ 6  9 24]\n",
            " [ 3 24 56]]\n"
          ]
        }
      ]
    },
    {
      "cell_type": "code",
      "source": [
        "n = np.random.randint(10, 50, 20)\n",
        "print(n)\n",
        "print(np.percentile(n, 95))\n",
        "print(np.percentile(n, 5))"
      ],
      "metadata": {
        "colab": {
          "base_uri": "https://localhost:8080/"
        },
        "id": "Y1lHSV8c6iNu",
        "outputId": "eda70a2a-43db-407d-f922-68a776d63593"
      },
      "execution_count": null,
      "outputs": [
        {
          "output_type": "stream",
          "name": "stdout",
          "text": [
            "[12 49 44 17 11 39 30 28 22 23 14 11 26 23 41 40 20 16 33 36]\n",
            "44.25\n",
            "11.0\n"
          ]
        }
      ]
    },
    {
      "cell_type": "code",
      "source": [
        "n = np.array([1,2,3,-1,-4,5,-3,5,6,7,-8])\n",
        "n[n < 0] = 0\n",
        "print(n)"
      ],
      "metadata": {
        "colab": {
          "base_uri": "https://localhost:8080/"
        },
        "id": "w9XLbruo6kAG",
        "outputId": "0f48370a-42c7-4b49-da24-67e7fea143f4"
      },
      "execution_count": null,
      "outputs": [
        {
          "output_type": "stream",
          "name": "stdout",
          "text": [
            "[1 2 3 0 0 5 0 5 6 7 0]\n"
          ]
        }
      ]
    },
    {
      "cell_type": "code",
      "source": [
        "a1 = np.array([1,2,3,4])\n",
        "a2 = np.array([2,3,4,5])\n",
        "mse = np.mean((a1 - a2)**2)\n",
        "print(mse)"
      ],
      "metadata": {
        "colab": {
          "base_uri": "https://localhost:8080/"
        },
        "id": "2HRbQ6bb6tEn",
        "outputId": "c8df33da-8654-49ba-dc51-6fda7c367184"
      },
      "execution_count": null,
      "outputs": [
        {
          "output_type": "stream",
          "name": "stdout",
          "text": [
            "1.0\n"
          ]
        }
      ]
    },
    {
      "cell_type": "code",
      "source": [
        "from sklearn import datasets\n",
        "from sklearn.model_selection import train_test_split\n",
        "from sklearn.ensemble import RandomForestClassifier\n",
        "from sklearn.metrics import accuracy_score\n",
        "\n",
        "# Load dataset\n",
        "iris = datasets.load_iris()\n",
        "X = iris.data\n",
        "y = iris.target\n",
        "\n",
        "# Split dataset into training and testing sets\n",
        "X_train, X_test, y_train, y_test = train_test_split(X, y, test_size=0.3, random_state=42)\n",
        "\n",
        "# Create and train the model\n",
        "clf = RandomForestClassifier(n_estimators=100)\n",
        "clf.fit(X_train, y_train)\n",
        "\n",
        "# Make predictions\n",
        "y_pred = clf.predict(X_test)\n",
        "\n",
        "# Evaluate the model\n",
        "accuracy = accuracy_score(y_test, y_pred)\n",
        "print(f\"Accuracy: {accuracy:.2f}\")"
      ],
      "metadata": {
        "id": "douLKQrQ7k3f",
        "colab": {
          "base_uri": "https://localhost:8080/"
        },
        "outputId": "db5f288b-19ac-4851-d357-227dd1e3c644"
      },
      "execution_count": 1,
      "outputs": [
        {
          "output_type": "stream",
          "name": "stdout",
          "text": [
            "Accuracy: 1.00\n"
          ]
        }
      ]
    },
    {
      "cell_type": "code",
      "source": [
        "#Write a Python program to load the iris data from a given csv file into a dataframe and print the shape of the data, type of the data and first 3 rows.\n",
        "from sklearn import datasets\n",
        "import pandas as pd\n",
        "iris = datasets.load_iris()\n",
        "df = pd.DataFrame(data=iris.data, columns=iris.feature_names)\n",
        "df['species'] = iris.target_names[iris.target]\n",
        "print({df.shape})\n",
        "print({type(df)})\n",
        "print(df.head(3))\n"
      ],
      "metadata": {
        "colab": {
          "base_uri": "https://localhost:8080/"
        },
        "id": "_5BIKA8I64XQ",
        "outputId": "b031b0f5-d69f-4d2a-d4dc-8efe9a4ba9b2"
      },
      "execution_count": 6,
      "outputs": [
        {
          "output_type": "stream",
          "name": "stdout",
          "text": [
            "{(150, 5)}\n",
            "{<class 'pandas.core.frame.DataFrame'>}\n",
            "   sepal length (cm)  sepal width (cm)  petal length (cm)  petal width (cm)  \\\n",
            "0                5.1               3.5                1.4               0.2   \n",
            "1                4.9               3.0                1.4               0.2   \n",
            "2                4.7               3.2                1.3               0.2   \n",
            "\n",
            "  species  \n",
            "0  setosa  \n",
            "1  setosa  \n",
            "2  setosa  \n"
          ]
        }
      ]
    },
    {
      "cell_type": "code",
      "source": [
        "import pandas as pd\n",
        "from sklearn.model_selection import train_test_split\n",
        "from sklearn.ensemble import RandomForestClassifier\n",
        "from sklearn.metrics import accuracy_score\n",
        "\n",
        "# Step 1: Load the email dataset with the correct delimiter\n",
        "df = pd.read_csv('email.csv', sep=';')\n",
        "\n",
        "# Step 2: Display the first few rows to understand the structure\n",
        "print(\"First 5 rows of the dataset:\")\n",
        "print(df.head())\n",
        "\n",
        "# Step 3: Check the columns and structure\n",
        "print(\"\\nColumns in the dataset:\")\n",
        "print(df.columns)\n",
        "\n",
        "# Step 4: Preprocess the data\n",
        "# Assuming 'Identifier' is the target variable and the rest are features\n",
        "X = df[['Login email', 'First name', 'Last name']]  # Features (string columns)\n",
        "y = df['Identifier']  # Target variable (should be numeric)\n",
        "\n",
        "# Convert categorical data into numeric values using one-hot encoding\n",
        "X = pd.get_dummies(X, drop_first=True)\n",
        "\n",
        "# Step 5: Split into training and testing sets\n",
        "X_train, X_test, y_train, y_test = train_test_split(X, y, test_size=0.2, random_state=42)\n",
        "\n",
        "# Step 6: Initialize and train the RandomForest model\n",
        "clf = RandomForestClassifier(n_estimators=100, random_state=42)\n",
        "clf.fit(X_train, y_train)\n",
        "\n",
        "# Step 7: Make predictions on the test set\n",
        "y_pred = clf.predict(X_test)\n",
        "\n",
        "# Step 8: Evaluate accuracy\n",
        "accuracy = accuracy_score(y_test, y_pred)\n",
        "print(f\"Accuracy: {accuracy:.2f}\")\n"
      ],
      "metadata": {
        "colab": {
          "base_uri": "https://localhost:8080/"
        },
        "id": "OWRJDzel9p4J",
        "outputId": "7de6be93-5ed0-4ba3-af23-0aebc23441e9"
      },
      "execution_count": 8,
      "outputs": [
        {
          "output_type": "stream",
          "name": "stdout",
          "text": [
            "First 5 rows of the dataset:\n",
            "         Login email  Identifier First name Last name\n",
            "0  laura@example.com        2070      Laura      Grey\n",
            "1  craig@example.com        4081      Craig   Johnson\n",
            "2   mary@example.com        9346       Mary   Jenkins\n",
            "3  jamie@example.com        5079      Jamie     Smith\n",
            "\n",
            "Columns in the dataset:\n",
            "Index(['Login email', 'Identifier', 'First name', 'Last name'], dtype='object')\n",
            "Accuracy: 0.00\n"
          ]
        }
      ]
    },
    {
      "cell_type": "code",
      "source": [
        "from sklearn import datasets\n",
        "iris = datasets.load_iris()\n",
        "print(iris.keys())\n",
        "X = iris.data\n",
        "print(X.shape[0])\n",
        "print(X.shape[1])\n",
        "print(iris.target_names)\n",
        "print(iris.feature_names)\n",
        "df = pd.DataFrame(data=iris.data, columns=iris.feature_names)\n",
        "df['species'] = iris.target_names[iris.target]\n",
        "print(df.describe())"
      ],
      "metadata": {
        "colab": {
          "base_uri": "https://localhost:8080/"
        },
        "id": "3wMMKNJg-0PA",
        "outputId": "ef453168-a83d-4910-8e7c-ab291139fbee"
      },
      "execution_count": 12,
      "outputs": [
        {
          "output_type": "stream",
          "name": "stdout",
          "text": [
            "dict_keys(['data', 'target', 'frame', 'target_names', 'DESCR', 'feature_names', 'filename', 'data_module'])\n",
            "150\n",
            "4\n",
            "['setosa' 'versicolor' 'virginica']\n",
            "['sepal length (cm)', 'sepal width (cm)', 'petal length (cm)', 'petal width (cm)']\n",
            "       sepal length (cm)  sepal width (cm)  petal length (cm)  \\\n",
            "count         150.000000        150.000000         150.000000   \n",
            "mean            5.843333          3.057333           3.758000   \n",
            "std             0.828066          0.435866           1.765298   \n",
            "min             4.300000          2.000000           1.000000   \n",
            "25%             5.100000          2.800000           1.600000   \n",
            "50%             5.800000          3.000000           4.350000   \n",
            "75%             6.400000          3.300000           5.100000   \n",
            "max             7.900000          4.400000           6.900000   \n",
            "\n",
            "       petal width (cm)  \n",
            "count        150.000000  \n",
            "mean           1.199333  \n",
            "std            0.762238  \n",
            "min            0.100000  \n",
            "25%            0.300000  \n",
            "50%            1.300000  \n",
            "75%            1.800000  \n",
            "max            2.500000  \n"
          ]
        }
      ]
    },
    {
      "cell_type": "code",
      "source": [
        "import pandas as pd\n",
        "from sklearn import datasets\n",
        "\n",
        "# Load the iris dataset\n",
        "iris = datasets.load_iris()\n",
        "\n",
        "# Convert the data to a DataFrame\n",
        "df = pd.DataFrame(iris.data, columns=iris.feature_names)\n",
        "\n",
        "# Add target column to DataFrame\n",
        "df['target'] = iris.target\n",
        "\n",
        "# Number of observations (rows)\n",
        "print(f\"Number of observations (rows): {df.shape[0]}\")\n",
        "\n",
        "# Missing values in each column\n",
        "print(\"\\nMissing values in each column:\")\n",
        "print(df.isnull().sum())\n",
        "\n",
        "# NaN values in the DataFrame\n",
        "print(\"\\nNumber of NaN values in the entire dataset:\", df.isna().sum().sum())\n"
      ],
      "metadata": {
        "colab": {
          "base_uri": "https://localhost:8080/"
        },
        "id": "tbAX6refAjCq",
        "outputId": "f7bf4159-b2f4-4104-f902-47985ef8b8cc"
      },
      "execution_count": 13,
      "outputs": [
        {
          "output_type": "stream",
          "name": "stdout",
          "text": [
            "Number of observations (rows): 150\n",
            "\n",
            "Missing values in each column:\n",
            "sepal length (cm)    0\n",
            "sepal width (cm)     0\n",
            "petal length (cm)    0\n",
            "petal width (cm)     0\n",
            "target               0\n",
            "dtype: int64\n",
            "\n",
            "Number of NaN values in the entire dataset: 0\n"
          ]
        }
      ]
    },
    {
      "cell_type": "code",
      "source": [
        "import pandas as pd\n",
        "from sklearn import datasets\n",
        "\n",
        "# Load the iris dataset\n",
        "iris = datasets.load_iris()\n",
        "\n",
        "# Convert the data to a DataFrame\n",
        "df = pd.DataFrame(iris.data, columns=iris.feature_names)\n",
        "\n",
        "# Basic statistical details\n",
        "print(df.describe())\n"
      ],
      "metadata": {
        "colab": {
          "base_uri": "https://localhost:8080/"
        },
        "id": "NgxWgAQDB9Ax",
        "outputId": "8b769c29-27d7-4d75-881c-d5ad4f9162b5"
      },
      "execution_count": 14,
      "outputs": [
        {
          "output_type": "stream",
          "name": "stdout",
          "text": [
            "       sepal length (cm)  sepal width (cm)  petal length (cm)  \\\n",
            "count         150.000000        150.000000         150.000000   \n",
            "mean            5.843333          3.057333           3.758000   \n",
            "std             0.828066          0.435866           1.765298   \n",
            "min             4.300000          2.000000           1.000000   \n",
            "25%             5.100000          2.800000           1.600000   \n",
            "50%             5.800000          3.000000           4.350000   \n",
            "75%             6.400000          3.300000           5.100000   \n",
            "max             7.900000          4.400000           6.900000   \n",
            "\n",
            "       petal width (cm)  \n",
            "count        150.000000  \n",
            "mean           1.199333  \n",
            "std            0.762238  \n",
            "min            0.100000  \n",
            "25%            0.300000  \n",
            "50%            1.300000  \n",
            "75%            1.800000  \n",
            "max            2.500000  \n"
          ]
        }
      ]
    },
    {
      "cell_type": "code",
      "source": [
        "import pandas as pd\n",
        "from sklearn import datasets\n",
        "\n",
        "# Load the iris dataset\n",
        "iris = datasets.load_iris()\n",
        "\n",
        "# Convert the data to a DataFrame\n",
        "df = pd.DataFrame(iris.data, columns=iris.feature_names)\n",
        "\n",
        "# Add target column (species names)\n",
        "df['species'] = iris.target_names[iris.target]\n",
        "\n",
        "# Get observations of each species\n",
        "print(\"Observations of Setosa:\")\n",
        "print(df[df['species'] == 'setosa'])\n",
        "\n",
        "print(\"\\nObservations of Versicolor:\")\n",
        "print(df[df['species'] == 'versicolor'])\n",
        "\n",
        "print(\"\\nObservations of Virginica:\")\n",
        "print(df[df['species'] == 'virginica'])\n"
      ],
      "metadata": {
        "colab": {
          "base_uri": "https://localhost:8080/"
        },
        "id": "FWgbkTylB_6h",
        "outputId": "602b443a-0aff-4166-a8b5-5cae40694e13"
      },
      "execution_count": 15,
      "outputs": [
        {
          "output_type": "stream",
          "name": "stdout",
          "text": [
            "Observations of Setosa:\n",
            "    sepal length (cm)  sepal width (cm)  petal length (cm)  petal width (cm)  \\\n",
            "0                 5.1               3.5                1.4               0.2   \n",
            "1                 4.9               3.0                1.4               0.2   \n",
            "2                 4.7               3.2                1.3               0.2   \n",
            "3                 4.6               3.1                1.5               0.2   \n",
            "4                 5.0               3.6                1.4               0.2   \n",
            "5                 5.4               3.9                1.7               0.4   \n",
            "6                 4.6               3.4                1.4               0.3   \n",
            "7                 5.0               3.4                1.5               0.2   \n",
            "8                 4.4               2.9                1.4               0.2   \n",
            "9                 4.9               3.1                1.5               0.1   \n",
            "10                5.4               3.7                1.5               0.2   \n",
            "11                4.8               3.4                1.6               0.2   \n",
            "12                4.8               3.0                1.4               0.1   \n",
            "13                4.3               3.0                1.1               0.1   \n",
            "14                5.8               4.0                1.2               0.2   \n",
            "15                5.7               4.4                1.5               0.4   \n",
            "16                5.4               3.9                1.3               0.4   \n",
            "17                5.1               3.5                1.4               0.3   \n",
            "18                5.7               3.8                1.7               0.3   \n",
            "19                5.1               3.8                1.5               0.3   \n",
            "20                5.4               3.4                1.7               0.2   \n",
            "21                5.1               3.7                1.5               0.4   \n",
            "22                4.6               3.6                1.0               0.2   \n",
            "23                5.1               3.3                1.7               0.5   \n",
            "24                4.8               3.4                1.9               0.2   \n",
            "25                5.0               3.0                1.6               0.2   \n",
            "26                5.0               3.4                1.6               0.4   \n",
            "27                5.2               3.5                1.5               0.2   \n",
            "28                5.2               3.4                1.4               0.2   \n",
            "29                4.7               3.2                1.6               0.2   \n",
            "30                4.8               3.1                1.6               0.2   \n",
            "31                5.4               3.4                1.5               0.4   \n",
            "32                5.2               4.1                1.5               0.1   \n",
            "33                5.5               4.2                1.4               0.2   \n",
            "34                4.9               3.1                1.5               0.2   \n",
            "35                5.0               3.2                1.2               0.2   \n",
            "36                5.5               3.5                1.3               0.2   \n",
            "37                4.9               3.6                1.4               0.1   \n",
            "38                4.4               3.0                1.3               0.2   \n",
            "39                5.1               3.4                1.5               0.2   \n",
            "40                5.0               3.5                1.3               0.3   \n",
            "41                4.5               2.3                1.3               0.3   \n",
            "42                4.4               3.2                1.3               0.2   \n",
            "43                5.0               3.5                1.6               0.6   \n",
            "44                5.1               3.8                1.9               0.4   \n",
            "45                4.8               3.0                1.4               0.3   \n",
            "46                5.1               3.8                1.6               0.2   \n",
            "47                4.6               3.2                1.4               0.2   \n",
            "48                5.3               3.7                1.5               0.2   \n",
            "49                5.0               3.3                1.4               0.2   \n",
            "\n",
            "   species  \n",
            "0   setosa  \n",
            "1   setosa  \n",
            "2   setosa  \n",
            "3   setosa  \n",
            "4   setosa  \n",
            "5   setosa  \n",
            "6   setosa  \n",
            "7   setosa  \n",
            "8   setosa  \n",
            "9   setosa  \n",
            "10  setosa  \n",
            "11  setosa  \n",
            "12  setosa  \n",
            "13  setosa  \n",
            "14  setosa  \n",
            "15  setosa  \n",
            "16  setosa  \n",
            "17  setosa  \n",
            "18  setosa  \n",
            "19  setosa  \n",
            "20  setosa  \n",
            "21  setosa  \n",
            "22  setosa  \n",
            "23  setosa  \n",
            "24  setosa  \n",
            "25  setosa  \n",
            "26  setosa  \n",
            "27  setosa  \n",
            "28  setosa  \n",
            "29  setosa  \n",
            "30  setosa  \n",
            "31  setosa  \n",
            "32  setosa  \n",
            "33  setosa  \n",
            "34  setosa  \n",
            "35  setosa  \n",
            "36  setosa  \n",
            "37  setosa  \n",
            "38  setosa  \n",
            "39  setosa  \n",
            "40  setosa  \n",
            "41  setosa  \n",
            "42  setosa  \n",
            "43  setosa  \n",
            "44  setosa  \n",
            "45  setosa  \n",
            "46  setosa  \n",
            "47  setosa  \n",
            "48  setosa  \n",
            "49  setosa  \n",
            "\n",
            "Observations of Versicolor:\n",
            "    sepal length (cm)  sepal width (cm)  petal length (cm)  petal width (cm)  \\\n",
            "50                7.0               3.2                4.7               1.4   \n",
            "51                6.4               3.2                4.5               1.5   \n",
            "52                6.9               3.1                4.9               1.5   \n",
            "53                5.5               2.3                4.0               1.3   \n",
            "54                6.5               2.8                4.6               1.5   \n",
            "55                5.7               2.8                4.5               1.3   \n",
            "56                6.3               3.3                4.7               1.6   \n",
            "57                4.9               2.4                3.3               1.0   \n",
            "58                6.6               2.9                4.6               1.3   \n",
            "59                5.2               2.7                3.9               1.4   \n",
            "60                5.0               2.0                3.5               1.0   \n",
            "61                5.9               3.0                4.2               1.5   \n",
            "62                6.0               2.2                4.0               1.0   \n",
            "63                6.1               2.9                4.7               1.4   \n",
            "64                5.6               2.9                3.6               1.3   \n",
            "65                6.7               3.1                4.4               1.4   \n",
            "66                5.6               3.0                4.5               1.5   \n",
            "67                5.8               2.7                4.1               1.0   \n",
            "68                6.2               2.2                4.5               1.5   \n",
            "69                5.6               2.5                3.9               1.1   \n",
            "70                5.9               3.2                4.8               1.8   \n",
            "71                6.1               2.8                4.0               1.3   \n",
            "72                6.3               2.5                4.9               1.5   \n",
            "73                6.1               2.8                4.7               1.2   \n",
            "74                6.4               2.9                4.3               1.3   \n",
            "75                6.6               3.0                4.4               1.4   \n",
            "76                6.8               2.8                4.8               1.4   \n",
            "77                6.7               3.0                5.0               1.7   \n",
            "78                6.0               2.9                4.5               1.5   \n",
            "79                5.7               2.6                3.5               1.0   \n",
            "80                5.5               2.4                3.8               1.1   \n",
            "81                5.5               2.4                3.7               1.0   \n",
            "82                5.8               2.7                3.9               1.2   \n",
            "83                6.0               2.7                5.1               1.6   \n",
            "84                5.4               3.0                4.5               1.5   \n",
            "85                6.0               3.4                4.5               1.6   \n",
            "86                6.7               3.1                4.7               1.5   \n",
            "87                6.3               2.3                4.4               1.3   \n",
            "88                5.6               3.0                4.1               1.3   \n",
            "89                5.5               2.5                4.0               1.3   \n",
            "90                5.5               2.6                4.4               1.2   \n",
            "91                6.1               3.0                4.6               1.4   \n",
            "92                5.8               2.6                4.0               1.2   \n",
            "93                5.0               2.3                3.3               1.0   \n",
            "94                5.6               2.7                4.2               1.3   \n",
            "95                5.7               3.0                4.2               1.2   \n",
            "96                5.7               2.9                4.2               1.3   \n",
            "97                6.2               2.9                4.3               1.3   \n",
            "98                5.1               2.5                3.0               1.1   \n",
            "99                5.7               2.8                4.1               1.3   \n",
            "\n",
            "       species  \n",
            "50  versicolor  \n",
            "51  versicolor  \n",
            "52  versicolor  \n",
            "53  versicolor  \n",
            "54  versicolor  \n",
            "55  versicolor  \n",
            "56  versicolor  \n",
            "57  versicolor  \n",
            "58  versicolor  \n",
            "59  versicolor  \n",
            "60  versicolor  \n",
            "61  versicolor  \n",
            "62  versicolor  \n",
            "63  versicolor  \n",
            "64  versicolor  \n",
            "65  versicolor  \n",
            "66  versicolor  \n",
            "67  versicolor  \n",
            "68  versicolor  \n",
            "69  versicolor  \n",
            "70  versicolor  \n",
            "71  versicolor  \n",
            "72  versicolor  \n",
            "73  versicolor  \n",
            "74  versicolor  \n",
            "75  versicolor  \n",
            "76  versicolor  \n",
            "77  versicolor  \n",
            "78  versicolor  \n",
            "79  versicolor  \n",
            "80  versicolor  \n",
            "81  versicolor  \n",
            "82  versicolor  \n",
            "83  versicolor  \n",
            "84  versicolor  \n",
            "85  versicolor  \n",
            "86  versicolor  \n",
            "87  versicolor  \n",
            "88  versicolor  \n",
            "89  versicolor  \n",
            "90  versicolor  \n",
            "91  versicolor  \n",
            "92  versicolor  \n",
            "93  versicolor  \n",
            "94  versicolor  \n",
            "95  versicolor  \n",
            "96  versicolor  \n",
            "97  versicolor  \n",
            "98  versicolor  \n",
            "99  versicolor  \n",
            "\n",
            "Observations of Virginica:\n",
            "     sepal length (cm)  sepal width (cm)  petal length (cm)  petal width (cm)  \\\n",
            "100                6.3               3.3                6.0               2.5   \n",
            "101                5.8               2.7                5.1               1.9   \n",
            "102                7.1               3.0                5.9               2.1   \n",
            "103                6.3               2.9                5.6               1.8   \n",
            "104                6.5               3.0                5.8               2.2   \n",
            "105                7.6               3.0                6.6               2.1   \n",
            "106                4.9               2.5                4.5               1.7   \n",
            "107                7.3               2.9                6.3               1.8   \n",
            "108                6.7               2.5                5.8               1.8   \n",
            "109                7.2               3.6                6.1               2.5   \n",
            "110                6.5               3.2                5.1               2.0   \n",
            "111                6.4               2.7                5.3               1.9   \n",
            "112                6.8               3.0                5.5               2.1   \n",
            "113                5.7               2.5                5.0               2.0   \n",
            "114                5.8               2.8                5.1               2.4   \n",
            "115                6.4               3.2                5.3               2.3   \n",
            "116                6.5               3.0                5.5               1.8   \n",
            "117                7.7               3.8                6.7               2.2   \n",
            "118                7.7               2.6                6.9               2.3   \n",
            "119                6.0               2.2                5.0               1.5   \n",
            "120                6.9               3.2                5.7               2.3   \n",
            "121                5.6               2.8                4.9               2.0   \n",
            "122                7.7               2.8                6.7               2.0   \n",
            "123                6.3               2.7                4.9               1.8   \n",
            "124                6.7               3.3                5.7               2.1   \n",
            "125                7.2               3.2                6.0               1.8   \n",
            "126                6.2               2.8                4.8               1.8   \n",
            "127                6.1               3.0                4.9               1.8   \n",
            "128                6.4               2.8                5.6               2.1   \n",
            "129                7.2               3.0                5.8               1.6   \n",
            "130                7.4               2.8                6.1               1.9   \n",
            "131                7.9               3.8                6.4               2.0   \n",
            "132                6.4               2.8                5.6               2.2   \n",
            "133                6.3               2.8                5.1               1.5   \n",
            "134                6.1               2.6                5.6               1.4   \n",
            "135                7.7               3.0                6.1               2.3   \n",
            "136                6.3               3.4                5.6               2.4   \n",
            "137                6.4               3.1                5.5               1.8   \n",
            "138                6.0               3.0                4.8               1.8   \n",
            "139                6.9               3.1                5.4               2.1   \n",
            "140                6.7               3.1                5.6               2.4   \n",
            "141                6.9               3.1                5.1               2.3   \n",
            "142                5.8               2.7                5.1               1.9   \n",
            "143                6.8               3.2                5.9               2.3   \n",
            "144                6.7               3.3                5.7               2.5   \n",
            "145                6.7               3.0                5.2               2.3   \n",
            "146                6.3               2.5                5.0               1.9   \n",
            "147                6.5               3.0                5.2               2.0   \n",
            "148                6.2               3.4                5.4               2.3   \n",
            "149                5.9               3.0                5.1               1.8   \n",
            "\n",
            "       species  \n",
            "100  virginica  \n",
            "101  virginica  \n",
            "102  virginica  \n",
            "103  virginica  \n",
            "104  virginica  \n",
            "105  virginica  \n",
            "106  virginica  \n",
            "107  virginica  \n",
            "108  virginica  \n",
            "109  virginica  \n",
            "110  virginica  \n",
            "111  virginica  \n",
            "112  virginica  \n",
            "113  virginica  \n",
            "114  virginica  \n",
            "115  virginica  \n",
            "116  virginica  \n",
            "117  virginica  \n",
            "118  virginica  \n",
            "119  virginica  \n",
            "120  virginica  \n",
            "121  virginica  \n",
            "122  virginica  \n",
            "123  virginica  \n",
            "124  virginica  \n",
            "125  virginica  \n",
            "126  virginica  \n",
            "127  virginica  \n",
            "128  virginica  \n",
            "129  virginica  \n",
            "130  virginica  \n",
            "131  virginica  \n",
            "132  virginica  \n",
            "133  virginica  \n",
            "134  virginica  \n",
            "135  virginica  \n",
            "136  virginica  \n",
            "137  virginica  \n",
            "138  virginica  \n",
            "139  virginica  \n",
            "140  virginica  \n",
            "141  virginica  \n",
            "142  virginica  \n",
            "143  virginica  \n",
            "144  virginica  \n",
            "145  virginica  \n",
            "146  virginica  \n",
            "147  virginica  \n",
            "148  virginica  \n",
            "149  virginica  \n"
          ]
        }
      ]
    },
    {
      "cell_type": "code",
      "source": [
        "import pandas as pd\n",
        "from sklearn import datasets\n",
        "\n",
        "# Load the iris dataset from sklearn\n",
        "iris = datasets.load_iris()\n",
        "\n",
        "# Access the first four cells using index and column labels (first 2 rows, first 2 columns)\n",
        "print(\"First 4 cells of the dataframe:\")\n",
        "print(df.iloc[0:2, 0:2])  # This accesses the first 2 rows and first 2 columns (2 x 2 = 4 cells)\n",
        "\n"
      ],
      "metadata": {
        "colab": {
          "base_uri": "https://localhost:8080/"
        },
        "id": "MH6tmrDACYxx",
        "outputId": "b2e91a6a-2e9c-4ad7-eb93-f0d073847d7d"
      },
      "execution_count": 19,
      "outputs": [
        {
          "output_type": "stream",
          "name": "stdout",
          "text": [
            "First 4 cells of the dataframe:\n",
            "   sepal length (cm)  sepal width (cm)\n",
            "0                5.1               3.5\n",
            "1                4.9               3.0\n"
          ]
        }
      ]
    },
    {
      "cell_type": "code",
      "source": [
        "import pandas as pd\n",
        "import matplotlib.pyplot as plt\n",
        "\n",
        "# Load the iris dataset (from CSV)\n",
        "\n",
        "\n",
        "# Plot general statistics (histograms for each feature)\n",
        "df.hist(figsize=(10, 8))\n",
        "plt.suptitle('General Statistics of Iris Data')\n",
        "plt.show()\n"
      ],
      "metadata": {
        "colab": {
          "base_uri": "https://localhost:8080/",
          "height": 756
        },
        "id": "kSrfjFH5Cr-y",
        "outputId": "9c09d388-4940-4f59-da69-5d7dbf5e3631"
      },
      "execution_count": 20,
      "outputs": [
        {
          "output_type": "display_data",
          "data": {
            "text/plain": [
              "<Figure size 1000x800 with 4 Axes>"
            ],
            "image/png": "[encoded data removed]"
          },
          "metadata": {}
        }
      ]
    },
    {
      "cell_type": "code",
      "source": [
        "import pandas as pd\n",
        "import matplotlib.pyplot as plt\n",
        "\n",
        "# Assuming 'species' column holds the target variable (species)\n",
        "species_count = df['species'].value_counts()\n",
        "\n",
        "# Create a bar plot to show the frequency of the three species\n",
        "species_count.plot(kind='bar', color=['blue', 'green', 'red'])\n",
        "plt.title('Frequency of Iris Species')\n",
        "plt.xlabel('Species')\n",
        "plt.ylabel('Frequency')\n",
        "plt.xticks(rotation=0)\n",
        "plt.show()\n"
      ],
      "metadata": {
        "colab": {
          "base_uri": "https://localhost:8080/",
          "height": 472
        },
        "id": "abyCHC5BCwmh",
        "outputId": "bf907815-c45e-49f3-b5e6-2a00365a76d1"
      },
      "execution_count": 21,
      "outputs": [
        {
          "output_type": "display_data",
          "data": {
            "text/plain": [
              "<Figure size 640x480 with 1 Axes>"
            ],
            "image/png": "[encoded data removed]"
          },
          "metadata": {}
        }
      ]
    }
  ]
}