{
  "nbformat": 4,
  "nbformat_minor": 0,
  "metadata": {
    "colab": {
      "provenance": [],
      "authorship_tag": "ABX9TyOrYStVMaCUupG4akKBCupc",
      "include_colab_link": true
    },
    "kernelspec": {
      "name": "python3",
      "display_name": "Python 3"
    },
    "language_info": {
      "name": "python"
    }
  },
  "cells": [
    {
      "cell_type": "markdown",
      "metadata": {
        "id": "view-in-github",
        "colab_type": "text"
      },
      "source": [
        "<a href=\"https://colab.research.google.com/github/MohitNaren/ML/blob/main/ml8.ipynb\" target=\"_parent\"><img src=\"https://colab.research.google.com/assets/colab-badge.svg\" alt=\"Open In Colab\"/></a>"
      ]
    },
    {
      "cell_type": "markdown",
      "source": [
        "**1. Comparing Single vs. Ensemble Classifiers\n",
        "Task:\n",
        "Write a program that demonstrates the advantage of ensemble learning compared to a\n",
        "single classifier.\n",
        "Apply a Decision Tree and a Random Forest (RF) classifier on a given dataset.\n",
        "Compare their performance using evaluation metrics such as accuracy, precision, recall,\n",
        "and F1-score.\n",
        "Explore the effect of changing the number of estimators (decision trees) in Random\n",
        "Forest.**"
      ],
      "metadata": {
        "id": "V3vZ301gVa3K"
      }
    },
    {
      "cell_type": "code",
      "execution_count": null,
      "metadata": {
        "colab": {
          "base_uri": "https://localhost:8080/"
        },
        "id": "qkP0-ezoSN9E",
        "outputId": "382577fa-6de5-4daf-df6d-aaf2b3b74642"
      },
      "outputs": [
        {
          "output_type": "stream",
          "name": "stdout",
          "text": [
            "Decision Tree Classifier Performance:\n",
            "Accuracy: 0.9474\n",
            "Precision: 0.9577\n",
            "Recall: 0.9577\n",
            "F1-score: 0.9577\n",
            "--------------------------------------------------\n",
            "Random Forest Classifier (100 estimators) Performance:\n",
            "Accuracy: 0.9649\n",
            "Precision: 0.9589\n",
            "Recall: 0.9859\n",
            "F1-score: 0.9722\n",
            "--------------------------------------------------\n",
            "Random Forest Classifier (10 estimators) Performance:\n",
            "Accuracy: 0.9561\n",
            "Precision: 0.9583\n",
            "Recall: 0.9718\n",
            "F1-score: 0.9650\n",
            "--------------------------------------------------\n",
            "Random Forest Classifier (50 estimators) Performance:\n",
            "Accuracy: 0.9649\n",
            "Precision: 0.9589\n",
            "Recall: 0.9859\n",
            "F1-score: 0.9722\n",
            "--------------------------------------------------\n",
            "Random Forest Classifier (100 estimators) Performance:\n",
            "Accuracy: 0.9649\n",
            "Precision: 0.9589\n",
            "Recall: 0.9859\n",
            "F1-score: 0.9722\n",
            "--------------------------------------------------\n",
            "Random Forest Classifier (200 estimators) Performance:\n",
            "Accuracy: 0.9649\n",
            "Precision: 0.9589\n",
            "Recall: 0.9859\n",
            "F1-score: 0.9722\n",
            "--------------------------------------------------\n",
            "Random Forest Classifier (500 estimators) Performance:\n",
            "Accuracy: 0.9649\n",
            "Precision: 0.9589\n",
            "Recall: 0.9859\n",
            "F1-score: 0.9722\n",
            "--------------------------------------------------\n"
          ]
        }
      ],
      "source": [
        "import numpy as np\n",
        "import pandas as pd\n",
        "from sklearn.datasets import load_breast_cancer\n",
        "from sklearn.model_selection import train_test_split\n",
        "from sklearn.tree import DecisionTreeClassifier\n",
        "from sklearn.ensemble import RandomForestClassifier\n",
        "from sklearn.metrics import accuracy_score, precision_score, recall_score, f1_score\n",
        "\n",
        "# Load the Breast Cancer dataset\n",
        "data = load_breast_cancer()\n",
        "X = data.data\n",
        "y = data.target\n",
        "\n",
        "# Split the data into training and testing sets (80-20 split)\n",
        "X_train, X_test, y_train, y_test = train_test_split(X, y, test_size=0.2, random_state=42)\n",
        "\n",
        "# Function to evaluate and print model performance\n",
        "def evaluate_model(model, X_train, y_train, X_test, y_test):\n",
        "    model.fit(X_train, y_train)\n",
        "    y_pred = model.predict(X_test)\n",
        "    accuracy = accuracy_score(y_test, y_pred)\n",
        "    precision = precision_score(y_test, y_pred)\n",
        "    recall = recall_score(y_test, y_pred)\n",
        "    f1 = f1_score(y_test, y_pred)\n",
        "\n",
        "    print(f\"Accuracy: {accuracy:.4f}\")\n",
        "    print(f\"Precision: {precision:.4f}\")\n",
        "    print(f\"Recall: {recall:.4f}\")\n",
        "    print(f\"F1-score: {f1:.4f}\")\n",
        "    print(\"-\" * 50)\n",
        "\n",
        "# 1. Decision Tree Classifier\n",
        "print(\"Decision Tree Classifier Performance:\")\n",
        "dt_model = DecisionTreeClassifier(random_state=42)\n",
        "evaluate_model(dt_model, X_train, y_train, X_test, y_test)\n",
        "\n",
        "# 2. Random Forest Classifier (default, 100 estimators)\n",
        "print(\"Random Forest Classifier (100 estimators) Performance:\")\n",
        "rf_model_default = RandomForestClassifier(n_estimators=100, random_state=42)\n",
        "evaluate_model(rf_model_default, X_train, y_train, X_test, y_test)\n",
        "\n",
        "# 3. Random Forest Classifier (varying number of estimators)\n",
        "estimators_range = [10, 50, 100, 200, 500]\n",
        "for n_estimators in estimators_range:\n",
        "    print(f\"Random Forest Classifier ({n_estimators} estimators) Performance:\")\n",
        "    rf_model = RandomForestClassifier(n_estimators=n_estimators, random_state=42)\n",
        "    evaluate_model(rf_model, X_train, y_train, X_test, y_test)"
      ]
    },
    {
      "cell_type": "markdown",
      "source": [
        "**2. Implementing Simple Ensemble Techniques\n",
        "Task:\n",
        "Write a program that demonstrates the use of simple ensemble techniques: Max Voting,\n",
        "Average Voting, and Weighted Average Voting (assign weights based on each model’s\n",
        "performance).\n",
        "Apply these techniques on a suitable dataset and compare results.**"
      ],
      "metadata": {
        "id": "KleuvGm4VLjq"
      }
    },
    {
      "cell_type": "code",
      "source": [
        "import numpy as np\n",
        "from sklearn.datasets import load_breast_cancer\n",
        "from sklearn.model_selection import train_test_split\n",
        "from sklearn.tree import DecisionTreeClassifier\n",
        "from sklearn.ensemble import RandomForestClassifier\n",
        "from sklearn.linear_model import LogisticRegression\n",
        "from sklearn.metrics import accuracy_score\n",
        "\n",
        "# Load the Breast Cancer dataset\n",
        "data = load_breast_cancer()\n",
        "X = data.data\n",
        "y = data.target\n",
        "\n",
        "# Split the data into training and testing sets (80-20 split)\n",
        "X_train, X_test, y_train, y_test = train_test_split(X, y, test_size=0.2, random_state=42)\n",
        "\n",
        "# Initialize base classifiers\n",
        "dt_model = DecisionTreeClassifier(random_state=42)\n",
        "rf_model = RandomForestClassifier(n_estimators=100, random_state=42)\n",
        "lr_model = LogisticRegression(max_iter=10000, random_state=42)\n",
        "\n",
        "# Fit the models\n",
        "dt_model.fit(X_train, y_train)\n",
        "rf_model.fit(X_train, y_train)\n",
        "lr_model.fit(X_train, y_train)\n",
        "\n",
        "# Get predictions from each model\n",
        "dt_pred = dt_model.predict(X_test)\n",
        "rf_pred = rf_model.predict(X_test)\n",
        "lr_pred = lr_model.predict(X_test)\n",
        "\n",
        "# Function for Max Voting\n",
        "def max_voting(preds):\n",
        "    return np.array([np.bincount(pred).argmax() for pred in zip(*preds)])\n",
        "\n",
        "# Function for Average Voting\n",
        "def average_voting(preds):\n",
        "    # Assuming probabilities are available\n",
        "    dt_prob = dt_model.predict_proba(X_test)[:, 1]\n",
        "    rf_prob = rf_model.predict_proba(X_test)[:, 1]\n",
        "    lr_prob = lr_model.predict_proba(X_test)[:, 1]\n",
        "    avg_prob = np.mean([dt_prob, rf_prob, lr_prob], axis=0)\n",
        "    return (avg_prob >= 0.5).astype(int)  # Convert probabilities to binary predictions\n",
        "\n",
        "# Function for Weighted Average Voting\n",
        "def weighted_average_voting(preds, weights):\n",
        "    # Assuming probabilities are available\n",
        "    dt_prob = dt_model.predict_proba(X_test)[:, 1]\n",
        "    rf_prob = rf_model.predict_proba(X_test)[:, 1]\n",
        "    lr_prob = lr_model.predict_proba(X_test)[:, 1]\n",
        "\n",
        "    # Weight the probabilities\n",
        "    weighted_prob = (weights[0] * dt_prob + weights[1] * rf_prob + weights[2] * lr_prob) / sum(weights)\n",
        "    return (weighted_prob >= 0.5).astype(int)\n",
        "\n",
        "# Evaluate models with simple accuracy\n",
        "def evaluate_model(preds, y_test):\n",
        "    return accuracy_score(y_test, preds)\n",
        "\n",
        "# Max Voting\n",
        "max_voting_pred = max_voting([dt_pred, rf_pred, lr_pred])\n",
        "max_voting_accuracy = evaluate_model(max_voting_pred, y_test)\n",
        "\n",
        "# Average Voting\n",
        "avg_voting_pred = average_voting([dt_pred, rf_pred, lr_pred])\n",
        "avg_voting_accuracy = evaluate_model(avg_voting_pred, y_test)\n",
        "\n",
        "# Weighted Average Voting\n",
        "# Assume we assign weights based on model performance (this is just an example)\n",
        "# Here, RandomForest might have the best accuracy, so it gets a higher weight\n",
        "weights = [0.3, 0.5, 0.2]  # Weights for Decision Tree, Random Forest, Logistic Regression\n",
        "weighted_avg_voting_pred = weighted_average_voting([dt_pred, rf_pred, lr_pred], weights)\n",
        "weighted_avg_voting_accuracy = evaluate_model(weighted_avg_voting_pred, y_test)\n",
        "\n",
        "# Print results\n",
        "print(f\"Max Voting Accuracy: {max_voting_accuracy:.4f}\")\n",
        "print(f\"Average Voting Accuracy: {avg_voting_accuracy:.4f}\")\n",
        "print(f\"Weighted Average Voting Accuracy: {weighted_avg_voting_accuracy:.4f}\")"
      ],
      "metadata": {
        "colab": {
          "base_uri": "https://localhost:8080/"
        },
        "id": "s2fbFDFjSoKT",
        "outputId": "837fca4c-b875-4e5b-942d-b8a484129b35"
      },
      "execution_count": null,
      "outputs": [
        {
          "output_type": "stream",
          "name": "stdout",
          "text": [
            "Max Voting Accuracy: 0.9649\n",
            "Average Voting Accuracy: 0.9649\n",
            "Weighted Average Voting Accuracy: 0.9561\n"
          ]
        }
      ]
    },
    {
      "cell_type": "markdown",
      "source": [
        "**3. Hard Voting vs. Soft Voting Classifiers\n",
        "Task:\n",
        "Write a program to show the difference between Hard Voting and Soft Voting classifiers\n",
        "in ensemble learning using multiple base learners (e.g., Decision Tree, Logistic\n",
        "Regression, and KNN).**"
      ],
      "metadata": {
        "id": "kbD94fFNVeDZ"
      }
    },
    {
      "cell_type": "code",
      "source": [
        "import numpy as np\n",
        "from sklearn.datasets import load_breast_cancer\n",
        "from sklearn.model_selection import train_test_split\n",
        "from sklearn.tree import DecisionTreeClassifier\n",
        "from sklearn.linear_model import LogisticRegression\n",
        "from sklearn.neighbors import KNeighborsClassifier\n",
        "from sklearn.ensemble import VotingClassifier\n",
        "from sklearn.metrics import accuracy_score\n",
        "\n",
        "# Load the Breast Cancer dataset\n",
        "data = load_breast_cancer()\n",
        "X = data.data\n",
        "y = data.target\n",
        "\n",
        "# Split the data into training and testing sets (80-20 split)\n",
        "X_train, X_test, y_train, y_test = train_test_split(X, y, test_size=0.2, random_state=42)\n",
        "\n",
        "# Initialize base classifiers\n",
        "dt_model = DecisionTreeClassifier(random_state=42)\n",
        "lr_model = LogisticRegression(max_iter=10000, random_state=42)\n",
        "knn_model = KNeighborsClassifier()\n",
        "\n",
        "# Initialize Hard Voting Classifier\n",
        "hard_voting_model = VotingClassifier(estimators=[\n",
        "    ('dt', dt_model),\n",
        "    ('lr', lr_model),\n",
        "    ('knn', knn_model)\n",
        "], voting='hard')  # Hard Voting uses majority class prediction\n",
        "\n",
        "# Initialize Soft Voting Classifier\n",
        "soft_voting_model = VotingClassifier(estimators=[\n",
        "    ('dt', dt_model),\n",
        "    ('lr', lr_model),\n",
        "    ('knn', knn_model)\n",
        "], voting='soft')  # Soft Voting uses average probabilities\n",
        "\n",
        "# Fit the models\n",
        "hard_voting_model.fit(X_train, y_train)\n",
        "soft_voting_model.fit(X_train, y_train)\n",
        "\n",
        "# Predict using both Hard Voting and Soft Voting classifiers\n",
        "hard_voting_pred = hard_voting_model.predict(X_test)\n",
        "soft_voting_pred = soft_voting_model.predict(X_test)\n",
        "\n",
        "# Evaluate models using accuracy\n",
        "hard_voting_accuracy = accuracy_score(y_test, hard_voting_pred)\n",
        "soft_voting_accuracy = accuracy_score(y_test, soft_voting_pred)\n",
        "\n",
        "# Print the results\n",
        "print(f\"Hard Voting Classifier Accuracy: {hard_voting_accuracy:.4f}\")\n",
        "print(f\"Soft Voting Classifier Accuracy: {soft_voting_accuracy:.4f}\")"
      ],
      "metadata": {
        "colab": {
          "base_uri": "https://localhost:8080/"
        },
        "id": "BAnkeBqkVCOz",
        "outputId": "92f34143-1109-426a-f11d-fa2a20b5cace"
      },
      "execution_count": null,
      "outputs": [
        {
          "output_type": "stream",
          "name": "stdout",
          "text": [
            "Hard Voting Classifier Accuracy: 0.9649\n",
            "Soft Voting Classifier Accuracy: 0.9737\n"
          ]
        }
      ]
    },
    {
      "cell_type": "markdown",
      "source": [
        "**4. Exploring Bagging Technique (Random Forest)\n",
        "Task:\n",
        "Write a program to explore the Bagging technique using the RandomForestClassifier on a\n",
        "suitable dataset.\n",
        "Experiment with parameters such as number of estimators, maximum depth, and random\n",
        "state.\n",
        "Write detailed observations and justify the changes in model performance.**"
      ],
      "metadata": {
        "id": "VQzcQkBpXOqV"
      }
    },
    {
      "cell_type": "code",
      "source": [
        "import numpy as np\n",
        "import pandas as pd\n",
        "from sklearn.datasets import load_breast_cancer\n",
        "from sklearn.model_selection import train_test_split\n",
        "from sklearn.ensemble import RandomForestClassifier\n",
        "from sklearn.metrics import classification_report, accuracy_score\n",
        "import matplotlib.pyplot as plt\n",
        "\n",
        "# Step 1: Load the breast cancer dataset\n",
        "data = load_breast_cancer()\n",
        "X = data.data\n",
        "y = data.target\n",
        "\n",
        "# Step 2: Split the data into training and testing sets\n",
        "X_train, X_test, y_train, y_test = train_test_split(X, y, test_size=0.3, random_state=42)\n",
        "\n",
        "# Step 3: Define a function to train and evaluate the model\n",
        "def evaluate_random_forest(n_estimators, max_depth, random_state=42):\n",
        "    # Create the Random Forest classifier with the given parameters\n",
        "    model = RandomForestClassifier(n_estimators=n_estimators, max_depth=max_depth, random_state=random_state)\n",
        "\n",
        "    # Train the model\n",
        "    model.fit(X_train, y_train)\n",
        "\n",
        "    # Predict on the test set\n",
        "    y_pred = model.predict(X_test)\n",
        "\n",
        "    # Calculate accuracy\n",
        "    accuracy = accuracy_score(y_test, y_pred)\n",
        "\n",
        "    # Generate classification report\n",
        "    report = classification_report(y_test, y_pred)\n",
        "\n",
        "    return accuracy, report\n",
        "\n",
        "# Step 4: Experiment with different hyperparameters\n",
        "\n",
        "# List of different parameter settings\n",
        "param_combinations = [\n",
        "    (10, None),  # 10 estimators, no max depth limit\n",
        "    (50, None),  # 50 estimators, no max depth limit\n",
        "    (100, None),  # 100 estimators, no max depth limit\n",
        "    (100, 5),    # 100 estimators, max depth = 5\n",
        "    (100, 10),   # 100 estimators, max depth = 10\n",
        "    (100, 20),   # 100 estimators, max depth = 20\n",
        "    (200, None),  # 200 estimators, no max depth limit\n",
        "]\n",
        "\n",
        "# Evaluate each combination\n",
        "results = []\n",
        "\n",
        "for n_estimators, max_depth in param_combinations:\n",
        "    accuracy, report = evaluate_random_forest(n_estimators, max_depth)\n",
        "    results.append((n_estimators, max_depth, accuracy, report))\n",
        "\n",
        "# Step 5: Display the results\n",
        "for n_estimators, max_depth, accuracy, report in results:\n",
        "    print(f\"n_estimators: {n_estimators}, max_depth: {max_depth}, Accuracy: {accuracy:.4f}\")\n",
        "    print(\"Classification Report:\\n\", report)\n",
        "    print(\"-\" * 80)\n",
        "\n",
        "# Step 6: Visualizing the impact of number of estimators on accuracy\n",
        "estimators_list = [10, 50, 100, 200]\n",
        "accuracies = []\n",
        "\n",
        "for n_estimators in estimators_list:\n",
        "    accuracy, _ = evaluate_random_forest(n_estimators, None)  # No max depth limit\n",
        "    accuracies.append(accuracy)\n",
        "\n",
        "# Plotting the results\n",
        "plt.figure(figsize=(10, 6))\n",
        "plt.plot(estimators_list, accuracies, marker='o', linestyle='-', color='b')\n",
        "plt.title('Impact of Number of Estimators on Accuracy (RandomForest)')\n",
        "plt.xlabel('Number of Estimators')\n",
        "plt.ylabel('Accuracy')\n",
        "plt.grid(True)\n",
        "plt.show()\n"
      ],
      "metadata": {
        "id": "wL_pS2OzVosi",
        "colab": {
          "base_uri": "https://localhost:8080/",
          "height": 1000
        },
        "outputId": "d7af5245-9dac-4428-a5e0-c3cdd9322530"
      },
      "execution_count": 5,
      "outputs": [
        {
          "output_type": "stream",
          "name": "stdout",
          "text": [
            "n_estimators: 10, max_depth: None, Accuracy: 0.9649\n",
            "Classification Report:\n",
            "               precision    recall  f1-score   support\n",
            "\n",
            "           0       0.95      0.95      0.95        63\n",
            "           1       0.97      0.97      0.97       108\n",
            "\n",
            "    accuracy                           0.96       171\n",
            "   macro avg       0.96      0.96      0.96       171\n",
            "weighted avg       0.96      0.96      0.96       171\n",
            "\n",
            "--------------------------------------------------------------------------------\n",
            "n_estimators: 50, max_depth: None, Accuracy: 0.9708\n",
            "Classification Report:\n",
            "               precision    recall  f1-score   support\n",
            "\n",
            "           0       0.98      0.94      0.96        63\n",
            "           1       0.96      0.99      0.98       108\n",
            "\n",
            "    accuracy                           0.97       171\n",
            "   macro avg       0.97      0.96      0.97       171\n",
            "weighted avg       0.97      0.97      0.97       171\n",
            "\n",
            "--------------------------------------------------------------------------------\n",
            "n_estimators: 100, max_depth: None, Accuracy: 0.9708\n",
            "Classification Report:\n",
            "               precision    recall  f1-score   support\n",
            "\n",
            "           0       0.98      0.94      0.96        63\n",
            "           1       0.96      0.99      0.98       108\n",
            "\n",
            "    accuracy                           0.97       171\n",
            "   macro avg       0.97      0.96      0.97       171\n",
            "weighted avg       0.97      0.97      0.97       171\n",
            "\n",
            "--------------------------------------------------------------------------------\n",
            "n_estimators: 100, max_depth: 5, Accuracy: 0.9649\n",
            "Classification Report:\n",
            "               precision    recall  f1-score   support\n",
            "\n",
            "           0       0.97      0.94      0.95        63\n",
            "           1       0.96      0.98      0.97       108\n",
            "\n",
            "    accuracy                           0.96       171\n",
            "   macro avg       0.97      0.96      0.96       171\n",
            "weighted avg       0.96      0.96      0.96       171\n",
            "\n",
            "--------------------------------------------------------------------------------\n",
            "n_estimators: 100, max_depth: 10, Accuracy: 0.9708\n",
            "Classification Report:\n",
            "               precision    recall  f1-score   support\n",
            "\n",
            "           0       0.98      0.94      0.96        63\n",
            "           1       0.96      0.99      0.98       108\n",
            "\n",
            "    accuracy                           0.97       171\n",
            "   macro avg       0.97      0.96      0.97       171\n",
            "weighted avg       0.97      0.97      0.97       171\n",
            "\n",
            "--------------------------------------------------------------------------------\n",
            "n_estimators: 100, max_depth: 20, Accuracy: 0.9708\n",
            "Classification Report:\n",
            "               precision    recall  f1-score   support\n",
            "\n",
            "           0       0.98      0.94      0.96        63\n",
            "           1       0.96      0.99      0.98       108\n",
            "\n",
            "    accuracy                           0.97       171\n",
            "   macro avg       0.97      0.96      0.97       171\n",
            "weighted avg       0.97      0.97      0.97       171\n",
            "\n",
            "--------------------------------------------------------------------------------\n",
            "n_estimators: 200, max_depth: None, Accuracy: 0.9708\n",
            "Classification Report:\n",
            "               precision    recall  f1-score   support\n",
            "\n",
            "           0       0.98      0.94      0.96        63\n",
            "           1       0.96      0.99      0.98       108\n",
            "\n",
            "    accuracy                           0.97       171\n",
            "   macro avg       0.97      0.96      0.97       171\n",
            "weighted avg       0.97      0.97      0.97       171\n",
            "\n",
            "--------------------------------------------------------------------------------\n"
          ]
        },
        {
          "output_type": "display_data",
          "data": {
            "text/plain": [
              "<Figure size 1000x600 with 1 Axes>"
            ],
            "image/png": "[encoded data removed]"
          },
          "metadata": {}
        }
      ]
    },
    {
      "cell_type": "markdown",
      "source": [
        "**5. Using RandomForestRegressor and OOB Score\n",
        "Task:\n",
        "Write a program using the RandomForestRegressor model to make predictions on a\n",
        "suitable regression dataset.\n",
        "Enable and observe the oob_score (Out-of-Bag score) parameter.\n",
        "Interpret the results and explain its significance.**"
      ],
      "metadata": {
        "id": "r9kfEIjwfKTO"
      }
    },
    {
      "cell_type": "code",
      "source": [
        "import numpy as np\n",
        "import pandas as pd\n",
        "from sklearn.datasets import fetch_california_housing\n",
        "from sklearn.model_selection import train_test_split\n",
        "from sklearn.ensemble import RandomForestRegressor\n",
        "from sklearn.metrics import mean_squared_error, r2_score\n",
        "import matplotlib.pyplot as plt\n",
        "\n",
        "# Step 1: Load the California Housing dataset\n",
        "data = fetch_california_housing()\n",
        "X = data.data\n",
        "y = data.target\n",
        "\n",
        "# Step 2: Split the data into training and test sets (80% train, 20% test)\n",
        "X_train, X_test, y_train, y_test = train_test_split(X, y, test_size=0.2, random_state=42)\n",
        "\n",
        "# Step 3: Initialize the RandomForestRegressor with oob_score=True\n",
        "rf_regressor = RandomForestRegressor(n_estimators=100, oob_score=True, random_state=42)\n",
        "\n",
        "# Step 4: Train the model on the training data\n",
        "rf_regressor.fit(X_train, y_train)\n",
        "\n",
        "# Step 5: Evaluate the model\n",
        "y_pred = rf_regressor.predict(X_test)\n",
        "mse = mean_squared_error(y_test, y_pred)\n",
        "r2 = r2_score(y_test, y_pred)\n",
        "\n",
        "# OOB Score from the model\n",
        "oob_score = rf_regressor.oob_score_\n",
        "\n",
        "# Step 6: Display results\n",
        "print(f\"Mean Squared Error on Test Set: {mse:.4f}\")\n",
        "print(f\"R^2 Score on Test Set: {r2:.4f}\")\n",
        "print(f\"Out-of-Bag (OOB) Score: {oob_score:.4f}\")\n",
        "\n",
        "# Optional: Visualize the feature importances\n",
        "plt.figure(figsize=(10, 6))\n",
        "plt.barh(data.feature_names, rf_regressor.feature_importances_)\n",
        "plt.xlabel(\"Feature Importance\")\n",
        "plt.title(\"Random Forest Regressor - Feature Importances\")\n",
        "plt.show()"
      ],
      "metadata": {
        "colab": {
          "base_uri": "https://localhost:8080/",
          "height": 616
        },
        "id": "I1ujUZjlfN5l",
        "outputId": "85bb1194-b2ad-42c3-f1f6-398f6a07b174"
      },
      "execution_count": 6,
      "outputs": [
        {
          "output_type": "stream",
          "name": "stdout",
          "text": [
            "Mean Squared Error on Test Set: 0.2554\n",
            "R^2 Score on Test Set: 0.8051\n",
            "Out-of-Bag (OOB) Score: 0.8074\n"
          ]
        },
        {
          "output_type": "display_data",
          "data": {
            "text/plain": [
              "<Figure size 1000x600 with 1 Axes>"
            ],
            "image/png": "[encoded data removed]"
          },
          "metadata": {}
        }
      ]
    }
  ]
}